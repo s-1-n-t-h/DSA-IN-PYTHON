{
 "cells": [
  {
   "cell_type": "code",
   "execution_count": 2,
   "id": "7120abf1",
   "metadata": {},
   "outputs": [],
   "source": [
    "# membership  intersection\n",
    "# add         difference\n",
    "# remove      sym.difference\n",
    "# union       size\n",
    "# clear       copy"
   ]
  },
  {
   "cell_type": "code",
   "execution_count": 3,
   "id": "a58efb9d",
   "metadata": {},
   "outputs": [],
   "source": [
    "# membership operator -- to check presence of an element in the set"
   ]
  },
  {
   "cell_type": "code",
   "execution_count": 5,
   "id": "47e1f6e0",
   "metadata": {},
   "outputs": [],
   "source": [
    "set1 = {1,2,3.4,'hello'}"
   ]
  },
  {
   "cell_type": "code",
   "execution_count": 6,
   "id": "75b742b0",
   "metadata": {},
   "outputs": [
    {
     "data": {
      "text/plain": [
       "False"
      ]
     },
     "execution_count": 6,
     "metadata": {},
     "output_type": "execute_result"
    }
   ],
   "source": [
    "6 in set1"
   ]
  },
  {
   "cell_type": "code",
   "execution_count": 7,
   "id": "2ba01603",
   "metadata": {},
   "outputs": [
    {
     "data": {
      "text/plain": [
       "True"
      ]
     },
     "execution_count": 7,
     "metadata": {},
     "output_type": "execute_result"
    }
   ],
   "source": [
    "1 in set1"
   ]
  },
  {
   "cell_type": "code",
   "execution_count": 8,
   "id": "177f88bc",
   "metadata": {},
   "outputs": [],
   "source": [
    "#add -- adding an element to a set"
   ]
  },
  {
   "cell_type": "code",
   "execution_count": 9,
   "id": "6b9e2f1d",
   "metadata": {},
   "outputs": [],
   "source": [
    "set1.add(6)"
   ]
  },
  {
   "cell_type": "code",
   "execution_count": 10,
   "id": "e78fcfaa",
   "metadata": {},
   "outputs": [
    {
     "data": {
      "text/plain": [
       "{1, 2, 3.4, 6, 'hello'}"
      ]
     },
     "execution_count": 10,
     "metadata": {},
     "output_type": "execute_result"
    }
   ],
   "source": [
    "set1"
   ]
  },
  {
   "cell_type": "code",
   "execution_count": 14,
   "id": "018b787d",
   "metadata": {},
   "outputs": [],
   "source": [
    "#remove -- remove an element from the set"
   ]
  },
  {
   "cell_type": "code",
   "execution_count": 12,
   "id": "b548476f",
   "metadata": {},
   "outputs": [],
   "source": [
    "set1.remove(1)"
   ]
  },
  {
   "cell_type": "code",
   "execution_count": 13,
   "id": "e724c002",
   "metadata": {},
   "outputs": [
    {
     "data": {
      "text/plain": [
       "{2, 3.4, 6, 'hello'}"
      ]
     },
     "execution_count": 13,
     "metadata": {},
     "output_type": "execute_result"
    }
   ],
   "source": [
    "set1"
   ]
  },
  {
   "cell_type": "code",
   "execution_count": 15,
   "id": "691fbdf3",
   "metadata": {},
   "outputs": [],
   "source": [
    "#union (|) -- combines elements of 2 or more sets"
   ]
  },
  {
   "cell_type": "code",
   "execution_count": 20,
   "id": "f27a3ec4",
   "metadata": {},
   "outputs": [],
   "source": [
    "#returns a union set"
   ]
  },
  {
   "cell_type": "code",
   "execution_count": 16,
   "id": "fff72978",
   "metadata": {},
   "outputs": [],
   "source": [
    "set2 = {1,'apple'}"
   ]
  },
  {
   "cell_type": "code",
   "execution_count": 17,
   "id": "6be97814",
   "metadata": {},
   "outputs": [
    {
     "data": {
      "text/plain": [
       "{1, 2, 3.4, 6, 'apple', 'hello'}"
      ]
     },
     "execution_count": 17,
     "metadata": {},
     "output_type": "execute_result"
    }
   ],
   "source": [
    "set1 | set2"
   ]
  },
  {
   "cell_type": "code",
   "execution_count": 18,
   "id": "327b9201",
   "metadata": {},
   "outputs": [
    {
     "data": {
      "text/plain": [
       "{2, 3.4, 6, 'hello'}"
      ]
     },
     "execution_count": 18,
     "metadata": {},
     "output_type": "execute_result"
    }
   ],
   "source": [
    "set1"
   ]
  },
  {
   "cell_type": "code",
   "execution_count": 21,
   "id": "fdb78eda",
   "metadata": {},
   "outputs": [],
   "source": [
    "#clear -- deleletes all the elements in a set"
   ]
  },
  {
   "cell_type": "code",
   "execution_count": 22,
   "id": "d4f44b64",
   "metadata": {},
   "outputs": [],
   "source": [
    "set1.clear()"
   ]
  },
  {
   "cell_type": "code",
   "execution_count": 23,
   "id": "0ea090bf",
   "metadata": {},
   "outputs": [
    {
     "data": {
      "text/plain": [
       "set()"
      ]
     },
     "execution_count": 23,
     "metadata": {},
     "output_type": "execute_result"
    }
   ],
   "source": [
    "set1"
   ]
  },
  {
   "cell_type": "code",
   "execution_count": 25,
   "id": "a6fd61b4",
   "metadata": {},
   "outputs": [],
   "source": [
    "#intersetion (&) -- gives common values between 2 or more sets"
   ]
  },
  {
   "cell_type": "code",
   "execution_count": 26,
   "id": "f6d686a1",
   "metadata": {},
   "outputs": [],
   "source": [
    "A = {1,2,3,4}"
   ]
  },
  {
   "cell_type": "code",
   "execution_count": 27,
   "id": "d37da1b7",
   "metadata": {},
   "outputs": [],
   "source": [
    "B = {1,5,7,3}"
   ]
  },
  {
   "cell_type": "code",
   "execution_count": 28,
   "id": "a439f731",
   "metadata": {},
   "outputs": [
    {
     "data": {
      "text/plain": [
       "{1, 3}"
      ]
     },
     "execution_count": 28,
     "metadata": {},
     "output_type": "execute_result"
    }
   ],
   "source": [
    "A & B"
   ]
  },
  {
   "cell_type": "code",
   "execution_count": 29,
   "id": "a67cfafb",
   "metadata": {},
   "outputs": [],
   "source": [
    "#difference (-) -- elements belongs to A but not to B"
   ]
  },
  {
   "cell_type": "code",
   "execution_count": 30,
   "id": "09976755",
   "metadata": {},
   "outputs": [
    {
     "data": {
      "text/plain": [
       "{2, 4}"
      ]
     },
     "execution_count": 30,
     "metadata": {},
     "output_type": "execute_result"
    }
   ],
   "source": [
    "A-B"
   ]
  },
  {
   "cell_type": "code",
   "execution_count": 31,
   "id": "47e7b294",
   "metadata": {},
   "outputs": [
    {
     "data": {
      "text/plain": [
       "{5, 7}"
      ]
     },
     "execution_count": 31,
     "metadata": {},
     "output_type": "execute_result"
    }
   ],
   "source": [
    "B-A"
   ]
  },
  {
   "cell_type": "code",
   "execution_count": 34,
   "id": "6bd2d4a0",
   "metadata": {},
   "outputs": [],
   "source": [
    "#symmetric difference (^) -- elements that are not common to A and B"
   ]
  },
  {
   "cell_type": "code",
   "execution_count": 33,
   "id": "27d85a3c",
   "metadata": {},
   "outputs": [
    {
     "data": {
      "text/plain": [
       "{2, 4, 5, 7}"
      ]
     },
     "execution_count": 33,
     "metadata": {},
     "output_type": "execute_result"
    }
   ],
   "source": [
    "A^B"
   ]
  },
  {
   "cell_type": "code",
   "execution_count": 35,
   "id": "eb28ac7a",
   "metadata": {},
   "outputs": [],
   "source": [
    "#size -- using len"
   ]
  },
  {
   "cell_type": "code",
   "execution_count": 36,
   "id": "b101b274",
   "metadata": {},
   "outputs": [
    {
     "data": {
      "text/plain": [
       "4"
      ]
     },
     "execution_count": 36,
     "metadata": {},
     "output_type": "execute_result"
    }
   ],
   "source": [
    "len(A)"
   ]
  },
  {
   "cell_type": "code",
   "execution_count": 37,
   "id": "4fd4c31c",
   "metadata": {},
   "outputs": [
    {
     "data": {
      "text/plain": [
       "4"
      ]
     },
     "execution_count": 37,
     "metadata": {},
     "output_type": "execute_result"
    }
   ],
   "source": [
    "len(B)"
   ]
  },
  {
   "cell_type": "code",
   "execution_count": 39,
   "id": "7351fbd4",
   "metadata": {},
   "outputs": [],
   "source": [
    "#copy -- .copy() or set()"
   ]
  },
  {
   "cell_type": "code",
   "execution_count": 40,
   "id": "0bfb3345",
   "metadata": {},
   "outputs": [],
   "source": [
    "C = A.copy()"
   ]
  },
  {
   "cell_type": "code",
   "execution_count": 41,
   "id": "e2b8321b",
   "metadata": {},
   "outputs": [
    {
     "data": {
      "text/plain": [
       "{1, 2, 3, 4}"
      ]
     },
     "execution_count": 41,
     "metadata": {},
     "output_type": "execute_result"
    }
   ],
   "source": [
    "C"
   ]
  },
  {
   "cell_type": "code",
   "execution_count": null,
   "id": "301b2e48",
   "metadata": {},
   "outputs": [],
   "source": []
  }
 ],
 "metadata": {
  "kernelspec": {
   "display_name": "Python 3 (ipykernel)",
   "language": "python",
   "name": "python3"
  },
  "language_info": {
   "codemirror_mode": {
    "name": "ipython",
    "version": 3
   },
   "file_extension": ".py",
   "mimetype": "text/x-python",
   "name": "python",
   "nbconvert_exporter": "python",
   "pygments_lexer": "ipython3",
   "version": "3.8.8"
  }
 },
 "nbformat": 4,
 "nbformat_minor": 5
}
