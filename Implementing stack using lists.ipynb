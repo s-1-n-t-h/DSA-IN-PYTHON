{
 "cells": [
  {
   "cell_type": "code",
   "execution_count": 1,
   "id": "a544705d",
   "metadata": {},
   "outputs": [],
   "source": [
    "stack = []"
   ]
  },
  {
   "cell_type": "code",
   "execution_count": 2,
   "id": "a44c70bc",
   "metadata": {},
   "outputs": [],
   "source": [
    "stack.append(10)"
   ]
  },
  {
   "cell_type": "code",
   "execution_count": 3,
   "id": "9019d899",
   "metadata": {},
   "outputs": [],
   "source": [
    "stack.append(20)"
   ]
  },
  {
   "cell_type": "code",
   "execution_count": 4,
   "id": "b475a3b0",
   "metadata": {},
   "outputs": [],
   "source": [
    "stack.append(30)"
   ]
  },
  {
   "cell_type": "code",
   "execution_count": 5,
   "id": "2bbd9951",
   "metadata": {},
   "outputs": [
    {
     "data": {
      "text/plain": [
       "[10, 20, 30]"
      ]
     },
     "execution_count": 5,
     "metadata": {},
     "output_type": "execute_result"
    }
   ],
   "source": [
    "stack"
   ]
  },
  {
   "cell_type": "code",
   "execution_count": 6,
   "id": "d6dd970a",
   "metadata": {},
   "outputs": [
    {
     "data": {
      "text/plain": [
       "30"
      ]
     },
     "execution_count": 6,
     "metadata": {},
     "output_type": "execute_result"
    }
   ],
   "source": [
    "stack.pop()"
   ]
  },
  {
   "cell_type": "code",
   "execution_count": 7,
   "id": "8deed9cc",
   "metadata": {},
   "outputs": [
    {
     "data": {
      "text/plain": [
       "20"
      ]
     },
     "execution_count": 7,
     "metadata": {},
     "output_type": "execute_result"
    }
   ],
   "source": [
    "stack.pop()"
   ]
  },
  {
   "cell_type": "code",
   "execution_count": 8,
   "id": "00b3bf4e",
   "metadata": {},
   "outputs": [
    {
     "data": {
      "text/plain": [
       "10"
      ]
     },
     "execution_count": 8,
     "metadata": {},
     "output_type": "execute_result"
    }
   ],
   "source": [
    "stack.pop()"
   ]
  },
  {
   "cell_type": "code",
   "execution_count": 9,
   "id": "9432e205",
   "metadata": {},
   "outputs": [
    {
     "ename": "IndexError",
     "evalue": "pop from empty list",
     "output_type": "error",
     "traceback": [
      "\u001b[1;31m---------------------------------------------------------------------------\u001b[0m",
      "\u001b[1;31mIndexError\u001b[0m                                Traceback (most recent call last)",
      "\u001b[1;32m~\\AppData\\Local\\Temp/ipykernel_24536/2667379430.py\u001b[0m in \u001b[0;36m<module>\u001b[1;34m\u001b[0m\n\u001b[1;32m----> 1\u001b[1;33m \u001b[0mstack\u001b[0m\u001b[1;33m.\u001b[0m\u001b[0mpop\u001b[0m\u001b[1;33m(\u001b[0m\u001b[1;33m)\u001b[0m\u001b[1;33m\u001b[0m\u001b[1;33m\u001b[0m\u001b[0m\n\u001b[0m",
      "\u001b[1;31mIndexError\u001b[0m: pop from empty list"
     ]
    }
   ],
   "source": [
    "stack.pop()"
   ]
  },
  {
   "cell_type": "code",
   "execution_count": null,
   "id": "1493ef38",
   "metadata": {},
   "outputs": [],
   "source": [
    "len(stack)"
   ]
  },
  {
   "cell_type": "code",
   "execution_count": null,
   "id": "f701d4f6",
   "metadata": {},
   "outputs": [],
   "source": [
    "len(stack)==0"
   ]
  },
  {
   "cell_type": "code",
   "execution_count": null,
   "id": "c558d21c",
   "metadata": {},
   "outputs": [],
   "source": [
    "not stack"
   ]
  },
  {
   "cell_type": "code",
   "execution_count": null,
   "id": "64eef9f2",
   "metadata": {},
   "outputs": [],
   "source": [
    "stack.append(10)"
   ]
  },
  {
   "cell_type": "code",
   "execution_count": null,
   "id": "e0517568",
   "metadata": {},
   "outputs": [],
   "source": [
    "stack.append(20)"
   ]
  },
  {
   "cell_type": "code",
   "execution_count": null,
   "id": "175d129a",
   "metadata": {},
   "outputs": [],
   "source": [
    "stack.append(30)"
   ]
  },
  {
   "cell_type": "code",
   "execution_count": null,
   "id": "cb2def50",
   "metadata": {},
   "outputs": [],
   "source": [
    "stack[-1]"
   ]
  },
  {
   "cell_type": "code",
   "execution_count": null,
   "id": "274cbcdb",
   "metadata": {},
   "outputs": [],
   "source": [
    "# implementation"
   ]
  },
  {
   "cell_type": "code",
   "execution_count": 3,
   "id": "41520278",
   "metadata": {},
   "outputs": [],
   "source": [
    "stack = []"
   ]
  },
  {
   "cell_type": "code",
   "execution_count": 4,
   "id": "ce5befaf",
   "metadata": {},
   "outputs": [],
   "source": [
    "def push():\n",
    "    stack.append(input(\"Enter the element: \"))\n",
    "    print(stack)"
   ]
  },
  {
   "cell_type": "code",
   "execution_count": 5,
   "id": "8aded8ac",
   "metadata": {},
   "outputs": [],
   "source": [
    "def pop_element():\n",
    "    if not stack:\n",
    "        print(\"stack is empty!\")\n",
    "    else:\n",
    "        print(\"removed element: \",stack.pop())\n",
    "        print(stack)"
   ]
  },
  {
   "cell_type": "code",
   "execution_count": 6,
   "id": "5a6f2781",
   "metadata": {},
   "outputs": [
    {
     "name": "stdout",
     "output_type": "stream",
     "text": [
      "Select the operation 1.push 2.pop 3.quit\n",
      "1\n",
      "Enter the element: 0\n",
      "['0']\n",
      "Select the operation 1.push 2.pop 3.quit\n",
      "1\n",
      "Enter the element: 4\n",
      "['0', '4']\n",
      "Select the operation 1.push 2.pop 3.quit\n",
      "1\n",
      "Enter the element: 6\n",
      "['0', '4', '6']\n",
      "Select the operation 1.push 2.pop 3.quit\n",
      "1\n",
      "Enter the element: 8\n",
      "['0', '4', '6', '8']\n",
      "Select the operation 1.push 2.pop 3.quit\n",
      "2\n",
      "removed element:  8\n",
      "['0', '4', '6']\n",
      "Select the operation 1.push 2.pop 3.quit\n",
      "2\n",
      "removed element:  6\n",
      "['0', '4']\n",
      "Select the operation 1.push 2.pop 3.quit\n",
      "2\n",
      "removed element:  4\n",
      "['0']\n",
      "Select the operation 1.push 2.pop 3.quit\n",
      "2\n",
      "removed element:  0\n",
      "[]\n",
      "Select the operation 1.push 2.pop 3.quit\n",
      "2\n",
      "stack is empty!\n",
      "Select the operation 1.push 2.pop 3.quit\n",
      "3\n"
     ]
    }
   ],
   "source": [
    "while True:\n",
    "    print(\"Select the operation 1.push 2.pop 3.quit\")\n",
    "    choice = int(input())\n",
    "    if choice==1:\n",
    "        push()\n",
    "    elif choice==2:\n",
    "        pop_element()\n",
    "    else:\n",
    "        break"
   ]
  },
  {
   "cell_type": "code",
   "execution_count": null,
   "id": "c2e06e77",
   "metadata": {},
   "outputs": [],
   "source": [
    "# fixing size of stack"
   ]
  },
  {
   "cell_type": "code",
   "execution_count": null,
   "id": "c4ce7cb4",
   "metadata": {},
   "outputs": [],
   "source": [
    "stack = []"
   ]
  },
  {
   "cell_type": "code",
   "execution_count": null,
   "id": "937edc7f",
   "metadata": {},
   "outputs": [],
   "source": [
    "def push():\n",
    "    if(len(stack)==n):\n",
    "        print('stack is full !')\n",
    "        return\n",
    "    else:\n",
    "        stack.append(input(\"Enter the element: \"))\n",
    "        print(stack)"
   ]
  },
  {
   "cell_type": "code",
   "execution_count": null,
   "id": "c1355ac3",
   "metadata": {},
   "outputs": [],
   "source": [
    "def pop_element():\n",
    "    if not stack:\n",
    "        print(\"stack is empty!\")\n",
    "    else:\n",
    "        print(\"removed element: \",stack.pop())\n",
    "        print(stack)"
   ]
  },
  {
   "cell_type": "code",
   "execution_count": null,
   "id": "37f0a61f",
   "metadata": {},
   "outputs": [],
   "source": [
    "a = input()"
   ]
  },
  {
   "cell_type": "code",
   "execution_count": null,
   "id": "37bed04f",
   "metadata": {},
   "outputs": [],
   "source": []
  }
 ],
 "metadata": {
  "kernelspec": {
   "display_name": "Python 3 (ipykernel)",
   "language": "python",
   "name": "python3"
  },
  "language_info": {
   "codemirror_mode": {
    "name": "ipython",
    "version": 3
   },
   "file_extension": ".py",
   "mimetype": "text/x-python",
   "name": "python",
   "nbconvert_exporter": "python",
   "pygments_lexer": "ipython3",
   "version": "3.8.8"
  }
 },
 "nbformat": 4,
 "nbformat_minor": 5
}
