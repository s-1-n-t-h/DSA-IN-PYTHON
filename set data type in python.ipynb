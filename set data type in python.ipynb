{
 "cells": [
  {
   "cell_type": "code",
   "execution_count": 1,
   "id": "68ab2e04",
   "metadata": {},
   "outputs": [],
   "source": [
    "#set is mutable with non-duplicated un-ordered values"
   ]
  },
  {
   "cell_type": "code",
   "execution_count": 3,
   "id": "5b1763b7",
   "metadata": {},
   "outputs": [],
   "source": [
    "fruits = {'apple','banana'}"
   ]
  },
  {
   "cell_type": "code",
   "execution_count": 7,
   "id": "823c9432",
   "metadata": {},
   "outputs": [],
   "source": [
    "#adding values to set -- add()"
   ]
  },
  {
   "cell_type": "code",
   "execution_count": 4,
   "id": "b27c9b10",
   "metadata": {},
   "outputs": [],
   "source": [
    "fruits.add('grapes')"
   ]
  },
  {
   "cell_type": "code",
   "execution_count": 6,
   "id": "54985503",
   "metadata": {},
   "outputs": [
    {
     "data": {
      "text/plain": [
       "{'apple', 'banana', 'grapes'}"
      ]
     },
     "execution_count": 6,
     "metadata": {},
     "output_type": "execute_result"
    }
   ],
   "source": [
    "fruits"
   ]
  },
  {
   "cell_type": "code",
   "execution_count": null,
   "id": "58b4dd86",
   "metadata": {},
   "outputs": [],
   "source": []
  },
  {
   "cell_type": "code",
   "execution_count": 8,
   "id": "a8c013a9",
   "metadata": {},
   "outputs": [],
   "source": [
    "#creating immutable set -- using frozenset()"
   ]
  },
  {
   "cell_type": "code",
   "execution_count": 9,
   "id": "cd07a117",
   "metadata": {},
   "outputs": [],
   "source": [
    "animal = frozenset(['tiger','lion'])"
   ]
  },
  {
   "cell_type": "code",
   "execution_count": 10,
   "id": "b99b3ec3",
   "metadata": {},
   "outputs": [
    {
     "data": {
      "text/plain": [
       "frozenset({'lion', 'tiger'})"
      ]
     },
     "execution_count": 10,
     "metadata": {},
     "output_type": "execute_result"
    }
   ],
   "source": [
    "animal"
   ]
  },
  {
   "cell_type": "code",
   "execution_count": 11,
   "id": "e4a07984",
   "metadata": {},
   "outputs": [
    {
     "ename": "AttributeError",
     "evalue": "'frozenset' object has no attribute 'add'",
     "output_type": "error",
     "traceback": [
      "\u001b[1;31m---------------------------------------------------------------------------\u001b[0m",
      "\u001b[1;31mAttributeError\u001b[0m                            Traceback (most recent call last)",
      "\u001b[1;32m~\\AppData\\Local\\Temp/ipykernel_20348/2350483415.py\u001b[0m in \u001b[0;36m<module>\u001b[1;34m\u001b[0m\n\u001b[1;32m----> 1\u001b[1;33m \u001b[0manimal\u001b[0m\u001b[1;33m.\u001b[0m\u001b[0madd\u001b[0m\u001b[1;33m(\u001b[0m\u001b[1;34m'goat'\u001b[0m\u001b[1;33m)\u001b[0m\u001b[1;33m\u001b[0m\u001b[1;33m\u001b[0m\u001b[0m\n\u001b[0m",
      "\u001b[1;31mAttributeError\u001b[0m: 'frozenset' object has no attribute 'add'"
     ]
    }
   ],
   "source": [
    "animal.add('goat')"
   ]
  },
  {
   "cell_type": "code",
   "execution_count": 12,
   "id": "e687f6d4",
   "metadata": {},
   "outputs": [],
   "source": [
    "num = {1,2,3,1,2,3,4,5,6}"
   ]
  },
  {
   "cell_type": "code",
   "execution_count": 13,
   "id": "1d6353c8",
   "metadata": {},
   "outputs": [
    {
     "data": {
      "text/plain": [
       "{1, 2, 3, 4, 5, 6}"
      ]
     },
     "execution_count": 13,
     "metadata": {},
     "output_type": "execute_result"
    }
   ],
   "source": [
    "num"
   ]
  },
  {
   "cell_type": "code",
   "execution_count": 14,
   "id": "5b29096e",
   "metadata": {},
   "outputs": [],
   "source": [
    "#creating empty set"
   ]
  },
  {
   "cell_type": "code",
   "execution_count": 15,
   "id": "5e7790d2",
   "metadata": {},
   "outputs": [],
   "source": [
    "#{} -- creates an empty dictionary"
   ]
  },
  {
   "cell_type": "code",
   "execution_count": 16,
   "id": "d6ddd80a",
   "metadata": {},
   "outputs": [],
   "source": [
    "emptyset = {}"
   ]
  },
  {
   "cell_type": "code",
   "execution_count": 17,
   "id": "4baa53f5",
   "metadata": {},
   "outputs": [
    {
     "data": {
      "text/plain": [
       "dict"
      ]
     },
     "execution_count": 17,
     "metadata": {},
     "output_type": "execute_result"
    }
   ],
   "source": [
    "type(emptyset)"
   ]
  },
  {
   "cell_type": "code",
   "execution_count": 21,
   "id": "2acb582e",
   "metadata": {},
   "outputs": [],
   "source": [
    "emptyset = set()"
   ]
  },
  {
   "cell_type": "code",
   "execution_count": 22,
   "id": "6388c545",
   "metadata": {},
   "outputs": [
    {
     "data": {
      "text/plain": [
       "set()"
      ]
     },
     "execution_count": 22,
     "metadata": {},
     "output_type": "execute_result"
    }
   ],
   "source": [
    "emptyset"
   ]
  },
  {
   "cell_type": "code",
   "execution_count": 23,
   "id": "3d0187a2",
   "metadata": {},
   "outputs": [
    {
     "data": {
      "text/plain": [
       "set"
      ]
     },
     "execution_count": 23,
     "metadata": {},
     "output_type": "execute_result"
    }
   ],
   "source": [
    "type(emptyset)"
   ]
  },
  {
   "cell_type": "code",
   "execution_count": 24,
   "id": "fd52832d",
   "metadata": {},
   "outputs": [],
   "source": [
    "num1 = set(num)"
   ]
  },
  {
   "cell_type": "code",
   "execution_count": 25,
   "id": "e3dd2776",
   "metadata": {},
   "outputs": [
    {
     "data": {
      "text/plain": [
       "{1, 2, 3, 4, 5, 6}"
      ]
     },
     "execution_count": 25,
     "metadata": {},
     "output_type": "execute_result"
    }
   ],
   "source": [
    "num1"
   ]
  },
  {
   "cell_type": "code",
   "execution_count": 29,
   "id": "d92191f1",
   "metadata": {},
   "outputs": [],
   "source": [
    "# set can't posses mutable elemenets in it -- lsits,dictionaries,sets"
   ]
  },
  {
   "cell_type": "code",
   "execution_count": 30,
   "id": "0ae0a52f",
   "metadata": {},
   "outputs": [
    {
     "ename": "TypeError",
     "evalue": "unhashable type: 'list'",
     "output_type": "error",
     "traceback": [
      "\u001b[1;31m---------------------------------------------------------------------------\u001b[0m",
      "\u001b[1;31mTypeError\u001b[0m                                 Traceback (most recent call last)",
      "\u001b[1;32m~\\AppData\\Local\\Temp/ipykernel_20348/3721865445.py\u001b[0m in \u001b[0;36m<module>\u001b[1;34m\u001b[0m\n\u001b[1;32m----> 1\u001b[1;33m \u001b[0ms\u001b[0m \u001b[1;33m=\u001b[0m \u001b[0mset\u001b[0m\u001b[1;33m(\u001b[0m\u001b[1;33m(\u001b[0m\u001b[1;36m1\u001b[0m\u001b[1;33m,\u001b[0m\u001b[1;36m2\u001b[0m\u001b[1;33m,\u001b[0m\u001b[1;33m[\u001b[0m\u001b[1;36m3\u001b[0m\u001b[1;33m,\u001b[0m\u001b[1;36m4\u001b[0m\u001b[1;33m]\u001b[0m\u001b[1;33m)\u001b[0m\u001b[1;33m)\u001b[0m\u001b[1;33m\u001b[0m\u001b[1;33m\u001b[0m\u001b[0m\n\u001b[0m",
      "\u001b[1;31mTypeError\u001b[0m: unhashable type: 'list'"
     ]
    }
   ],
   "source": [
    "s = set((1,2,[3,4]))"
   ]
  },
  {
   "cell_type": "code",
   "execution_count": 32,
   "id": "08025cc0",
   "metadata": {},
   "outputs": [
    {
     "ename": "TypeError",
     "evalue": "unhashable type: 'set'",
     "output_type": "error",
     "traceback": [
      "\u001b[1;31m---------------------------------------------------------------------------\u001b[0m",
      "\u001b[1;31mTypeError\u001b[0m                                 Traceback (most recent call last)",
      "\u001b[1;32m~\\AppData\\Local\\Temp/ipykernel_20348/902165361.py\u001b[0m in \u001b[0;36m<module>\u001b[1;34m\u001b[0m\n\u001b[1;32m----> 1\u001b[1;33m \u001b[0ms\u001b[0m \u001b[1;33m=\u001b[0m \u001b[0mset\u001b[0m\u001b[1;33m(\u001b[0m\u001b[1;33m{\u001b[0m\u001b[1;36m1\u001b[0m\u001b[1;33m,\u001b[0m\u001b[1;36m2\u001b[0m\u001b[1;33m,\u001b[0m\u001b[1;33m{\u001b[0m\u001b[1;36m5\u001b[0m\u001b[1;33m,\u001b[0m\u001b[1;36m7\u001b[0m\u001b[1;33m,\u001b[0m\u001b[1;36m8\u001b[0m\u001b[1;33m}\u001b[0m\u001b[1;33m}\u001b[0m\u001b[1;33m)\u001b[0m\u001b[1;33m\u001b[0m\u001b[1;33m\u001b[0m\u001b[0m\n\u001b[0m",
      "\u001b[1;31mTypeError\u001b[0m: unhashable type: 'set'"
     ]
    }
   ],
   "source": [
    "s = set({1,2,{5,7,8}})"
   ]
  },
  {
   "cell_type": "code",
   "execution_count": null,
   "id": "81a5aad0",
   "metadata": {},
   "outputs": [],
   "source": []
  }
 ],
 "metadata": {
  "kernelspec": {
   "display_name": "Python 3 (ipykernel)",
   "language": "python",
   "name": "python3"
  },
  "language_info": {
   "codemirror_mode": {
    "name": "ipython",
    "version": 3
   },
   "file_extension": ".py",
   "mimetype": "text/x-python",
   "name": "python",
   "nbconvert_exporter": "python",
   "pygments_lexer": "ipython3",
   "version": "3.8.8"
  }
 },
 "nbformat": 4,
 "nbformat_minor": 5
}
