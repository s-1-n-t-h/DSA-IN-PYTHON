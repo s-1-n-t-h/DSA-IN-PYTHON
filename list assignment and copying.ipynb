{
 "cells": [
  {
   "cell_type": "code",
   "execution_count": 1,
   "id": "d86dd171",
   "metadata": {},
   "outputs": [],
   "source": [
    "#assignment of list"
   ]
  },
  {
   "cell_type": "code",
   "execution_count": 2,
   "id": "48999981",
   "metadata": {},
   "outputs": [],
   "source": [
    "list1 = [10,2,3.4,5.1,45]"
   ]
  },
  {
   "cell_type": "code",
   "execution_count": 3,
   "id": "b211955a",
   "metadata": {},
   "outputs": [],
   "source": [
    "list2 = list1"
   ]
  },
  {
   "cell_type": "code",
   "execution_count": 4,
   "id": "01f98fe5",
   "metadata": {},
   "outputs": [
    {
     "data": {
      "text/plain": [
       "[10, 2, 3.4, 5.1, 45]"
      ]
     },
     "execution_count": 4,
     "metadata": {},
     "output_type": "execute_result"
    }
   ],
   "source": [
    "list2"
   ]
  },
  {
   "cell_type": "code",
   "execution_count": 5,
   "id": "c396febc",
   "metadata": {},
   "outputs": [],
   "source": [
    "list1[0] = 'apple'"
   ]
  },
  {
   "cell_type": "code",
   "execution_count": 6,
   "id": "9b97f2de",
   "metadata": {},
   "outputs": [
    {
     "data": {
      "text/plain": [
       "['apple', 2, 3.4, 5.1, 45]"
      ]
     },
     "execution_count": 6,
     "metadata": {},
     "output_type": "execute_result"
    }
   ],
   "source": [
    "list1"
   ]
  },
  {
   "cell_type": "code",
   "execution_count": 7,
   "id": "3cda821f",
   "metadata": {},
   "outputs": [
    {
     "data": {
      "text/plain": [
       "['apple', 2, 3.4, 5.1, 45]"
      ]
     },
     "execution_count": 7,
     "metadata": {},
     "output_type": "execute_result"
    }
   ],
   "source": [
    "list2"
   ]
  },
  {
   "cell_type": "code",
   "execution_count": 8,
   "id": "8a5b11dd",
   "metadata": {},
   "outputs": [],
   "source": [
    "list2[0] = 10"
   ]
  },
  {
   "cell_type": "code",
   "execution_count": 9,
   "id": "870c1016",
   "metadata": {},
   "outputs": [
    {
     "data": {
      "text/plain": [
       "[10, 2, 3.4, 5.1, 45]"
      ]
     },
     "execution_count": 9,
     "metadata": {},
     "output_type": "execute_result"
    }
   ],
   "source": [
    "list2"
   ]
  },
  {
   "cell_type": "code",
   "execution_count": 10,
   "id": "ac80f3e2",
   "metadata": {},
   "outputs": [
    {
     "data": {
      "text/plain": [
       "[10, 2, 3.4, 5.1, 45]"
      ]
     },
     "execution_count": 10,
     "metadata": {},
     "output_type": "execute_result"
    }
   ],
   "source": [
    "list1"
   ]
  },
  {
   "cell_type": "code",
   "execution_count": null,
   "id": "b9ab6ae6",
   "metadata": {},
   "outputs": [],
   "source": []
  },
  {
   "cell_type": "code",
   "execution_count": 11,
   "id": "e42cd606",
   "metadata": {},
   "outputs": [],
   "source": [
    "#copying the list"
   ]
  },
  {
   "cell_type": "code",
   "execution_count": 12,
   "id": "22b6673f",
   "metadata": {},
   "outputs": [],
   "source": [
    "#performed using the list constructor -- list()"
   ]
  },
  {
   "cell_type": "code",
   "execution_count": 13,
   "id": "a6c04a93",
   "metadata": {},
   "outputs": [],
   "source": [
    "list3 = list(list1)"
   ]
  },
  {
   "cell_type": "code",
   "execution_count": 14,
   "id": "556d16e0",
   "metadata": {},
   "outputs": [
    {
     "data": {
      "text/plain": [
       "[10, 2, 3.4, 5.1, 45]"
      ]
     },
     "execution_count": 14,
     "metadata": {},
     "output_type": "execute_result"
    }
   ],
   "source": [
    "list3"
   ]
  },
  {
   "cell_type": "code",
   "execution_count": 15,
   "id": "c065f6c4",
   "metadata": {},
   "outputs": [],
   "source": [
    "list1[0] = 'apple'"
   ]
  },
  {
   "cell_type": "code",
   "execution_count": 16,
   "id": "dd85b93e",
   "metadata": {},
   "outputs": [
    {
     "data": {
      "text/plain": [
       "['apple', 2, 3.4, 5.1, 45]"
      ]
     },
     "execution_count": 16,
     "metadata": {},
     "output_type": "execute_result"
    }
   ],
   "source": [
    "list1"
   ]
  },
  {
   "cell_type": "code",
   "execution_count": 17,
   "id": "22d2e17f",
   "metadata": {},
   "outputs": [
    {
     "data": {
      "text/plain": [
       "[10, 2, 3.4, 5.1, 45]"
      ]
     },
     "execution_count": 17,
     "metadata": {},
     "output_type": "execute_result"
    }
   ],
   "source": [
    "list3"
   ]
  },
  {
   "cell_type": "code",
   "execution_count": 18,
   "id": "42d96bf9",
   "metadata": {},
   "outputs": [],
   "source": [
    "#Generating elements by statements"
   ]
  },
  {
   "cell_type": "code",
   "execution_count": 19,
   "id": "1291f61c",
   "metadata": {},
   "outputs": [],
   "source": [
    "result = [x**2 for x in [1,2,3]]"
   ]
  },
  {
   "cell_type": "code",
   "execution_count": 20,
   "id": "d6dd122e",
   "metadata": {},
   "outputs": [
    {
     "data": {
      "text/plain": [
       "[1, 4, 9]"
      ]
     },
     "execution_count": 20,
     "metadata": {},
     "output_type": "execute_result"
    }
   ],
   "source": [
    "result"
   ]
  }
 ],
 "metadata": {
  "kernelspec": {
   "display_name": "Python 3 (ipykernel)",
   "language": "python",
   "name": "python3"
  },
  "language_info": {
   "codemirror_mode": {
    "name": "ipython",
    "version": 3
   },
   "file_extension": ".py",
   "mimetype": "text/x-python",
   "name": "python",
   "nbconvert_exporter": "python",
   "pygments_lexer": "ipython3",
   "version": "3.8.8"
  }
 },
 "nbformat": 4,
 "nbformat_minor": 5
}
