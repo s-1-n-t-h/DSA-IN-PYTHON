{
 "cells": [
  {
   "cell_type": "code",
   "execution_count": null,
   "id": "f1defa53-e715-430a-a2f0-68dea4a56037",
   "metadata": {},
   "outputs": [],
   "source": [
    "#list\n",
    "#CHARACHERISTICS:\n",
    "# MUTABLE, LINEAR DS, MIXED TYPE ELEMENTS, VARIYING LENGTH, ZERO BASED INDEXING"
   ]
  },
  {
   "cell_type": "code",
   "execution_count": null,
   "id": "456ddf4a",
   "metadata": {},
   "outputs": [],
   "source": []
  },
  {
   "cell_type": "code",
   "execution_count": null,
   "id": "64d321f6",
   "metadata": {},
   "outputs": [],
   "source": []
  },
  {
   "cell_type": "code",
   "execution_count": null,
   "id": "fd4ae937",
   "metadata": {},
   "outputs": [],
   "source": [
    "#creating lists"
   ]
  },
  {
   "cell_type": "code",
   "execution_count": 1,
   "id": "b84f8f78",
   "metadata": {},
   "outputs": [],
   "source": [
    "animals = []"
   ]
  },
  {
   "cell_type": "code",
   "execution_count": 2,
   "id": "b27f9ef9",
   "metadata": {},
   "outputs": [
    {
     "data": {
      "text/plain": [
       "[]"
      ]
     },
     "execution_count": 2,
     "metadata": {},
     "output_type": "execute_result"
    }
   ],
   "source": [
    "animals"
   ]
  },
  {
   "cell_type": "code",
   "execution_count": 3,
   "id": "abdc98f7",
   "metadata": {},
   "outputs": [],
   "source": [
    "animals = ['dog','cat','monkey']"
   ]
  },
  {
   "cell_type": "code",
   "execution_count": 4,
   "id": "c63a4c03",
   "metadata": {},
   "outputs": [
    {
     "data": {
      "text/plain": [
       "['dog', 'cat', 'monkey']"
      ]
     },
     "execution_count": 4,
     "metadata": {},
     "output_type": "execute_result"
    }
   ],
   "source": [
    "animals"
   ]
  },
  {
   "cell_type": "code",
   "execution_count": 5,
   "id": "6b6d987b",
   "metadata": {},
   "outputs": [
    {
     "data": {
      "text/plain": [
       "'dog'"
      ]
     },
     "execution_count": 5,
     "metadata": {},
     "output_type": "execute_result"
    }
   ],
   "source": [
    "animals[0]"
   ]
  },
  {
   "cell_type": "code",
   "execution_count": 6,
   "id": "712a0ae1",
   "metadata": {},
   "outputs": [],
   "source": [
    "list1 = [10,20.4,'hello',54]"
   ]
  },
  {
   "cell_type": "code",
   "execution_count": 7,
   "id": "56fd38f5",
   "metadata": {},
   "outputs": [
    {
     "data": {
      "text/plain": [
       "[10, 20.4, 'hello', 54]"
      ]
     },
     "execution_count": 7,
     "metadata": {},
     "output_type": "execute_result"
    }
   ],
   "source": [
    "list1"
   ]
  },
  {
   "cell_type": "code",
   "execution_count": 8,
   "id": "75a34207",
   "metadata": {},
   "outputs": [
    {
     "data": {
      "text/plain": [
       "'hello'"
      ]
     },
     "execution_count": 8,
     "metadata": {},
     "output_type": "execute_result"
    }
   ],
   "source": [
    "list1[2]"
   ]
  },
  {
   "cell_type": "code",
   "execution_count": 9,
   "id": "88df0107",
   "metadata": {},
   "outputs": [],
   "source": [
    "list2 = [[10,20],[30,40]]"
   ]
  },
  {
   "cell_type": "code",
   "execution_count": 10,
   "id": "3e66a6e9",
   "metadata": {},
   "outputs": [
    {
     "data": {
      "text/plain": [
       "[[10, 20], [30, 40]]"
      ]
     },
     "execution_count": 10,
     "metadata": {},
     "output_type": "execute_result"
    }
   ],
   "source": [
    "list2"
   ]
  },
  {
   "cell_type": "code",
   "execution_count": 11,
   "id": "0373e722",
   "metadata": {},
   "outputs": [
    {
     "data": {
      "text/plain": [
       "[10, 20]"
      ]
     },
     "execution_count": 11,
     "metadata": {},
     "output_type": "execute_result"
    }
   ],
   "source": [
    "list2[0]"
   ]
  },
  {
   "cell_type": "code",
   "execution_count": 12,
   "id": "4ea4d2c2",
   "metadata": {},
   "outputs": [
    {
     "data": {
      "text/plain": [
       "10"
      ]
     },
     "execution_count": 12,
     "metadata": {},
     "output_type": "execute_result"
    }
   ],
   "source": [
    "list2[0][0]"
   ]
  },
  {
   "cell_type": "code",
   "execution_count": 13,
   "id": "640a6ec3",
   "metadata": {},
   "outputs": [
    {
     "name": "stdout",
     "output_type": "stream",
     "text": [
      "10\n",
      "20\n",
      "30\n",
      "40\n"
     ]
    }
   ],
   "source": [
    "for num in [10,20,30,40]:\n",
    "    print(num)"
   ]
  },
  {
   "cell_type": "code",
   "execution_count": null,
   "id": "4cde1098",
   "metadata": {},
   "outputs": [],
   "source": []
  },
  {
   "cell_type": "code",
   "execution_count": null,
   "id": "d0b84f53",
   "metadata": {},
   "outputs": [],
   "source": []
  },
  {
   "cell_type": "code",
   "execution_count": 14,
   "id": "a0ae61cf",
   "metadata": {},
   "outputs": [],
   "source": [
    "#list operations"
   ]
  },
  {
   "cell_type": "code",
   "execution_count": null,
   "id": "9fc58670",
   "metadata": {},
   "outputs": [],
   "source": [
    "#replace"
   ]
  },
  {
   "cell_type": "code",
   "execution_count": 15,
   "id": "c9628d43",
   "metadata": {},
   "outputs": [],
   "source": [
    "list = [10,20,3.7,7.7]"
   ]
  },
  {
   "cell_type": "code",
   "execution_count": 16,
   "id": "4115acc2",
   "metadata": {},
   "outputs": [],
   "source": [
    "list[2] = 40"
   ]
  },
  {
   "cell_type": "code",
   "execution_count": 17,
   "id": "b96212e4",
   "metadata": {},
   "outputs": [
    {
     "data": {
      "text/plain": [
       "[10, 20, 40, 7.7]"
      ]
     },
     "execution_count": 17,
     "metadata": {},
     "output_type": "execute_result"
    }
   ],
   "source": [
    "list"
   ]
  },
  {
   "cell_type": "code",
   "execution_count": null,
   "id": "86b66b58",
   "metadata": {},
   "outputs": [],
   "source": []
  },
  {
   "cell_type": "code",
   "execution_count": 18,
   "id": "4269354a",
   "metadata": {},
   "outputs": [],
   "source": [
    "#insert"
   ]
  },
  {
   "cell_type": "code",
   "execution_count": 19,
   "id": "beab19c8",
   "metadata": {},
   "outputs": [],
   "source": [
    "list.insert(2,'hello')"
   ]
  },
  {
   "cell_type": "code",
   "execution_count": 20,
   "id": "67dbf5d1",
   "metadata": {},
   "outputs": [
    {
     "data": {
      "text/plain": [
       "[10, 20, 'hello', 40, 7.7]"
      ]
     },
     "execution_count": 20,
     "metadata": {},
     "output_type": "execute_result"
    }
   ],
   "source": [
    "list"
   ]
  },
  {
   "cell_type": "code",
   "execution_count": null,
   "id": "687aacdb",
   "metadata": {},
   "outputs": [],
   "source": []
  },
  {
   "cell_type": "code",
   "execution_count": null,
   "id": "e9a3f623",
   "metadata": {},
   "outputs": [],
   "source": [
    "#sort - can be performed within similar datat type elements"
   ]
  },
  {
   "cell_type": "code",
   "execution_count": 21,
   "id": "bd3eef80",
   "metadata": {},
   "outputs": [
    {
     "ename": "TypeError",
     "evalue": "'<' not supported between instances of 'str' and 'int'",
     "output_type": "error",
     "traceback": [
      "\u001b[1;31m---------------------------------------------------------------------------\u001b[0m",
      "\u001b[1;31mTypeError\u001b[0m                                 Traceback (most recent call last)",
      "\u001b[1;32m~\\AppData\\Local\\Temp/ipykernel_9336/1389050415.py\u001b[0m in \u001b[0;36m<module>\u001b[1;34m\u001b[0m\n\u001b[1;32m----> 1\u001b[1;33m \u001b[0mlist\u001b[0m\u001b[1;33m.\u001b[0m\u001b[0msort\u001b[0m\u001b[1;33m(\u001b[0m\u001b[1;33m)\u001b[0m\u001b[1;33m\u001b[0m\u001b[1;33m\u001b[0m\u001b[0m\n\u001b[0m",
      "\u001b[1;31mTypeError\u001b[0m: '<' not supported between instances of 'str' and 'int'"
     ]
    }
   ],
   "source": [
    "list.sort()"
   ]
  },
  {
   "cell_type": "code",
   "execution_count": 22,
   "id": "78610d1a",
   "metadata": {},
   "outputs": [],
   "source": [
    "animals.sort()"
   ]
  },
  {
   "cell_type": "code",
   "execution_count": 23,
   "id": "e92fc1c1",
   "metadata": {},
   "outputs": [
    {
     "data": {
      "text/plain": [
       "['cat', 'dog', 'monkey']"
      ]
     },
     "execution_count": 23,
     "metadata": {},
     "output_type": "execute_result"
    }
   ],
   "source": [
    "animals"
   ]
  },
  {
   "cell_type": "code",
   "execution_count": 24,
   "id": "5a77de67",
   "metadata": {},
   "outputs": [],
   "source": [
    "list1 = [10,2.3,30,4]"
   ]
  },
  {
   "cell_type": "code",
   "execution_count": 25,
   "id": "9ca3d880",
   "metadata": {},
   "outputs": [],
   "source": [
    "list1.sort()"
   ]
  },
  {
   "cell_type": "code",
   "execution_count": 26,
   "id": "a0dfae39",
   "metadata": {},
   "outputs": [
    {
     "data": {
      "text/plain": [
       "[2.3, 4, 10, 30]"
      ]
     },
     "execution_count": 26,
     "metadata": {},
     "output_type": "execute_result"
    }
   ],
   "source": [
    "list1"
   ]
  },
  {
   "cell_type": "code",
   "execution_count": 29,
   "id": "5f9cf551",
   "metadata": {},
   "outputs": [],
   "source": [
    "list1.sort(reverse=True)"
   ]
  },
  {
   "cell_type": "code",
   "execution_count": 30,
   "id": "0564ac41",
   "metadata": {},
   "outputs": [
    {
     "data": {
      "text/plain": [
       "[30, 10, 4, 2.3]"
      ]
     },
     "execution_count": 30,
     "metadata": {},
     "output_type": "execute_result"
    }
   ],
   "source": [
    "list1"
   ]
  },
  {
   "cell_type": "code",
   "execution_count": null,
   "id": "b82a034a",
   "metadata": {},
   "outputs": [],
   "source": []
  },
  {
   "cell_type": "code",
   "execution_count": 31,
   "id": "6504f967",
   "metadata": {},
   "outputs": [],
   "source": [
    "#deletion"
   ]
  },
  {
   "cell_type": "code",
   "execution_count": 32,
   "id": "6bc69ed4",
   "metadata": {},
   "outputs": [],
   "source": [
    "del list1[3]"
   ]
  },
  {
   "cell_type": "code",
   "execution_count": 33,
   "id": "833076cc",
   "metadata": {},
   "outputs": [
    {
     "data": {
      "text/plain": [
       "[30, 10, 4]"
      ]
     },
     "execution_count": 33,
     "metadata": {},
     "output_type": "execute_result"
    }
   ],
   "source": [
    "list1"
   ]
  },
  {
   "cell_type": "code",
   "execution_count": 34,
   "id": "e8ff33a2",
   "metadata": {},
   "outputs": [],
   "source": [
    "del list1"
   ]
  },
  {
   "cell_type": "code",
   "execution_count": 35,
   "id": "9214e5e0",
   "metadata": {},
   "outputs": [
    {
     "ename": "NameError",
     "evalue": "name 'list1' is not defined",
     "output_type": "error",
     "traceback": [
      "\u001b[1;31m---------------------------------------------------------------------------\u001b[0m",
      "\u001b[1;31mNameError\u001b[0m                                 Traceback (most recent call last)",
      "\u001b[1;32m~\\AppData\\Local\\Temp/ipykernel_9336/866546473.py\u001b[0m in \u001b[0;36m<module>\u001b[1;34m\u001b[0m\n\u001b[1;32m----> 1\u001b[1;33m \u001b[0mlist1\u001b[0m\u001b[1;33m\u001b[0m\u001b[1;33m\u001b[0m\u001b[0m\n\u001b[0m",
      "\u001b[1;31mNameError\u001b[0m: name 'list1' is not defined"
     ]
    }
   ],
   "source": [
    "list1"
   ]
  },
  {
   "cell_type": "code",
   "execution_count": null,
   "id": "d17c9260",
   "metadata": {},
   "outputs": [],
   "source": []
  },
  {
   "cell_type": "code",
   "execution_count": 36,
   "id": "ce75bc88",
   "metadata": {},
   "outputs": [],
   "source": [
    "#append"
   ]
  },
  {
   "cell_type": "code",
   "execution_count": 37,
   "id": "763d3403",
   "metadata": {},
   "outputs": [],
   "source": [
    "animals.append(\"monkey\")"
   ]
  },
  {
   "cell_type": "code",
   "execution_count": 38,
   "id": "7d492d63",
   "metadata": {},
   "outputs": [
    {
     "data": {
      "text/plain": [
       "['cat', 'dog', 'monkey', 'monkey']"
      ]
     },
     "execution_count": 38,
     "metadata": {},
     "output_type": "execute_result"
    }
   ],
   "source": [
    "animals"
   ]
  },
  {
   "cell_type": "code",
   "execution_count": 40,
   "id": "5b5f9190",
   "metadata": {},
   "outputs": [],
   "source": [
    "del animals[2]"
   ]
  },
  {
   "cell_type": "code",
   "execution_count": 41,
   "id": "c5c7ee20",
   "metadata": {},
   "outputs": [],
   "source": [
    "animals.append(\"zebra\")"
   ]
  },
  {
   "cell_type": "code",
   "execution_count": 42,
   "id": "a87dbed5",
   "metadata": {},
   "outputs": [
    {
     "data": {
      "text/plain": [
       "['cat', 'dog', 'monkey', 'zebra']"
      ]
     },
     "execution_count": 42,
     "metadata": {},
     "output_type": "execute_result"
    }
   ],
   "source": [
    "animals"
   ]
  },
  {
   "cell_type": "code",
   "execution_count": null,
   "id": "e83796b3",
   "metadata": {},
   "outputs": [],
   "source": []
  },
  {
   "cell_type": "code",
   "execution_count": 43,
   "id": "d798c32e",
   "metadata": {},
   "outputs": [],
   "source": [
    "#reverse"
   ]
  },
  {
   "cell_type": "code",
   "execution_count": 44,
   "id": "c73e133e",
   "metadata": {},
   "outputs": [],
   "source": [
    "animals.reverse()"
   ]
  },
  {
   "cell_type": "code",
   "execution_count": 45,
   "id": "15a79a47",
   "metadata": {},
   "outputs": [
    {
     "data": {
      "text/plain": [
       "['zebra', 'monkey', 'dog', 'cat']"
      ]
     },
     "execution_count": 45,
     "metadata": {},
     "output_type": "execute_result"
    }
   ],
   "source": [
    "animals"
   ]
  },
  {
   "cell_type": "code",
   "execution_count": null,
   "id": "6285bd05",
   "metadata": {},
   "outputs": [],
   "source": []
  }
 ],
 "metadata": {
  "kernelspec": {
   "display_name": "Python 3 (ipykernel)",
   "language": "python",
   "name": "python3"
  },
  "language_info": {
   "codemirror_mode": {
    "name": "ipython",
    "version": 3
   },
   "file_extension": ".py",
   "mimetype": "text/x-python",
   "name": "python",
   "nbconvert_exporter": "python",
   "pygments_lexer": "ipython3",
   "version": "3.8.8"
  }
 },
 "nbformat": 4,
 "nbformat_minor": 5
}
