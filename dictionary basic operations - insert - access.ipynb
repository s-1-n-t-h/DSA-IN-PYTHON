{
 "cells": [
  {
   "cell_type": "code",
   "execution_count": 2,
   "id": "c5a9f032",
   "metadata": {},
   "outputs": [],
   "source": [
    "my_dict = {1:'apple',2:'ball',3:'cat'}"
   ]
  },
  {
   "cell_type": "code",
   "execution_count": 3,
   "id": "96943df9",
   "metadata": {},
   "outputs": [
    {
     "data": {
      "text/plain": [
       "dict_keys([1, 2, 3])"
      ]
     },
     "execution_count": 3,
     "metadata": {},
     "output_type": "execute_result"
    }
   ],
   "source": [
    "my_dict.keys()"
   ]
  },
  {
   "cell_type": "code",
   "execution_count": 5,
   "id": "7a2e5491",
   "metadata": {},
   "outputs": [
    {
     "data": {
      "text/plain": [
       "dict_values(['apple', 'ball', 'cat'])"
      ]
     },
     "execution_count": 5,
     "metadata": {},
     "output_type": "execute_result"
    }
   ],
   "source": [
    "my_dict.values()"
   ]
  },
  {
   "cell_type": "code",
   "execution_count": 6,
   "id": "46e1e4ed",
   "metadata": {},
   "outputs": [
    {
     "data": {
      "text/plain": [
       "'ball'"
      ]
     },
     "execution_count": 6,
     "metadata": {},
     "output_type": "execute_result"
    }
   ],
   "source": [
    "my_dict[2]"
   ]
  },
  {
   "cell_type": "code",
   "execution_count": 7,
   "id": "465b2113",
   "metadata": {},
   "outputs": [
    {
     "ename": "KeyError",
     "evalue": "'apple'",
     "output_type": "error",
     "traceback": [
      "\u001b[1;31m---------------------------------------------------------------------------\u001b[0m",
      "\u001b[1;31mKeyError\u001b[0m                                  Traceback (most recent call last)",
      "\u001b[1;32m~\\AppData\\Local\\Temp/ipykernel_16440/2400314063.py\u001b[0m in \u001b[0;36m<module>\u001b[1;34m\u001b[0m\n\u001b[1;32m----> 1\u001b[1;33m \u001b[0mmy_dict\u001b[0m\u001b[1;33m[\u001b[0m\u001b[1;34m'apple'\u001b[0m\u001b[1;33m]\u001b[0m\u001b[1;33m\u001b[0m\u001b[1;33m\u001b[0m\u001b[0m\n\u001b[0m",
      "\u001b[1;31mKeyError\u001b[0m: 'apple'"
     ]
    }
   ],
   "source": [
    "my_dict['apple']"
   ]
  },
  {
   "cell_type": "code",
   "execution_count": 8,
   "id": "f3b91be4",
   "metadata": {},
   "outputs": [
    {
     "data": {
      "text/plain": [
       "'apple'"
      ]
     },
     "execution_count": 8,
     "metadata": {},
     "output_type": "execute_result"
    }
   ],
   "source": [
    "my_dict.get(1)"
   ]
  },
  {
   "cell_type": "code",
   "execution_count": 10,
   "id": "b53d36fe",
   "metadata": {},
   "outputs": [],
   "source": [
    "my_dict.get(5) #return None"
   ]
  },
  {
   "cell_type": "code",
   "execution_count": 11,
   "id": "831dab13",
   "metadata": {},
   "outputs": [],
   "source": [
    "# so values can be accessed using keys or by using get method"
   ]
  },
  {
   "cell_type": "code",
   "execution_count": 12,
   "id": "2576481d",
   "metadata": {},
   "outputs": [],
   "source": [
    "my_dict[4] = 'dog'"
   ]
  },
  {
   "cell_type": "code",
   "execution_count": 13,
   "id": "336d2000",
   "metadata": {},
   "outputs": [
    {
     "data": {
      "text/plain": [
       "{1: 'apple', 2: 'ball', 3: 'cat', 4: 'dog'}"
      ]
     },
     "execution_count": 13,
     "metadata": {},
     "output_type": "execute_result"
    }
   ],
   "source": [
    "my_dict"
   ]
  },
  {
   "cell_type": "code",
   "execution_count": 14,
   "id": "3dc36f3c",
   "metadata": {},
   "outputs": [],
   "source": [
    "my_dict[2] = 'bat'"
   ]
  },
  {
   "cell_type": "code",
   "execution_count": 15,
   "id": "9aa5dbfc",
   "metadata": {},
   "outputs": [
    {
     "data": {
      "text/plain": [
       "{1: 'apple', 2: 'bat', 3: 'cat', 4: 'dog'}"
      ]
     },
     "execution_count": 15,
     "metadata": {},
     "output_type": "execute_result"
    }
   ],
   "source": [
    "my_dict"
   ]
  },
  {
   "cell_type": "code",
   "execution_count": 17,
   "id": "23703bef",
   "metadata": {},
   "outputs": [
    {
     "data": {
      "text/plain": [
       "4"
      ]
     },
     "execution_count": 17,
     "metadata": {},
     "output_type": "execute_result"
    }
   ],
   "source": [
    "len(my_dict)"
   ]
  },
  {
   "cell_type": "code",
   "execution_count": null,
   "id": "a9a8d3ca",
   "metadata": {},
   "outputs": [],
   "source": []
  }
 ],
 "metadata": {
  "kernelspec": {
   "display_name": "Python 3 (ipykernel)",
   "language": "python",
   "name": "python3"
  },
  "language_info": {
   "codemirror_mode": {
    "name": "ipython",
    "version": 3
   },
   "file_extension": ".py",
   "mimetype": "text/x-python",
   "name": "python",
   "nbconvert_exporter": "python",
   "pygments_lexer": "ipython3",
   "version": "3.8.8"
  }
 },
 "nbformat": 4,
 "nbformat_minor": 5
}
