{
 "cells": [
  {
   "cell_type": "code",
   "execution_count": 1,
   "id": "0dc86ce8",
   "metadata": {},
   "outputs": [],
   "source": [
    "# creating node using class"
   ]
  },
  {
   "cell_type": "code",
   "execution_count": 8,
   "id": "649039ef",
   "metadata": {},
   "outputs": [],
   "source": [
    "class Node:\n",
    "    def __init__(self,d):\n",
    "        self.d = d\n",
    "        self.r = None\n",
    "        "
   ]
  },
  {
   "cell_type": "code",
   "execution_count": 94,
   "id": "d2e9db8b",
   "metadata": {},
   "outputs": [],
   "source": [
    "class LinkedList:\n",
    "    def __init__(self):\n",
    "        self.head = None\n",
    "    def print_LL(self):\n",
    "        if self.head is None:\n",
    "            print(\"Linked List is Empty\")\n",
    "        else:\n",
    "            n = self.head\n",
    "            while n is not None:\n",
    "                print(n.d,\"-->\",end=\" \")\n",
    "                n = n.r\n",
    "            print('NULL')\n",
    "    def add_begin(self,d):\n",
    "        n_n = Node(d)\n",
    "        n_n.r = self.head\n",
    "        self.head = n_n\n",
    "    def add_end(self,d):\n",
    "        n_n = Node(d)        \n",
    "        if self.head is None:\n",
    "            self.head = n_n\n",
    "        else:\n",
    "            n = self.head\n",
    "            while n.r is not None:\n",
    "                n = n.r\n",
    "            n.r = n_n\n",
    "    def add_after(self,d,x):\n",
    "        n = self.head\n",
    "        while n is not None:\n",
    "            if n.d==x:\n",
    "                break\n",
    "            n = n.r\n",
    "        if n is None:\n",
    "            print(\"node is not present in LL\")\n",
    "        else:\n",
    "            n_n = Node(d)\n",
    "            n_n.r = n.r\n",
    "            n.r = n_n\n",
    "            "
   ]
  },
  {
   "cell_type": "code",
   "execution_count": 108,
   "id": "cedb9ab7",
   "metadata": {},
   "outputs": [],
   "source": [
    "ll1 = LinkedList()"
   ]
  },
  {
   "cell_type": "code",
   "execution_count": 96,
   "id": "54d3fc8d",
   "metadata": {},
   "outputs": [],
   "source": [
    "ll1.add_begin(10)"
   ]
  },
  {
   "cell_type": "code",
   "execution_count": 97,
   "id": "b9bc68dd",
   "metadata": {},
   "outputs": [],
   "source": [
    "ll1.add_begin(20)"
   ]
  },
  {
   "cell_type": "code",
   "execution_count": 98,
   "id": "e4d6db21",
   "metadata": {},
   "outputs": [],
   "source": [
    "ll1.add_begin(30)"
   ]
  },
  {
   "cell_type": "code",
   "execution_count": 99,
   "id": "43e95214",
   "metadata": {},
   "outputs": [
    {
     "data": {
      "text/plain": [
       "<__main__.LinkedList at 0x185c6a46d60>"
      ]
     },
     "execution_count": 99,
     "metadata": {},
     "output_type": "execute_result"
    }
   ],
   "source": [
    "ll1"
   ]
  },
  {
   "cell_type": "code",
   "execution_count": 100,
   "id": "b1ad6d2c",
   "metadata": {},
   "outputs": [
    {
     "name": "stdout",
     "output_type": "stream",
     "text": [
      "30 --> 20 --> 10 --> NULL\n"
     ]
    }
   ],
   "source": [
    "ll1.print_LL()"
   ]
  },
  {
   "cell_type": "code",
   "execution_count": 101,
   "id": "214f2885",
   "metadata": {},
   "outputs": [],
   "source": [
    "ll1.add_end(12)"
   ]
  },
  {
   "cell_type": "code",
   "execution_count": 102,
   "id": "86fe2058",
   "metadata": {},
   "outputs": [],
   "source": [
    "ll1.add_end(11)"
   ]
  },
  {
   "cell_type": "code",
   "execution_count": 103,
   "id": "dc8b3b3b",
   "metadata": {},
   "outputs": [],
   "source": [
    "ll1.add_end(13)"
   ]
  },
  {
   "cell_type": "code",
   "execution_count": 104,
   "id": "42a14f7e",
   "metadata": {},
   "outputs": [
    {
     "name": "stdout",
     "output_type": "stream",
     "text": [
      "30 --> 20 --> 10 --> 12 --> 11 --> 13 --> NULL\n"
     ]
    }
   ],
   "source": [
    "ll1.print_LL()"
   ]
  },
  {
   "cell_type": "code",
   "execution_count": 105,
   "id": "0f670f5d",
   "metadata": {},
   "outputs": [],
   "source": [
    "ll1.add_after(55,11)"
   ]
  },
  {
   "cell_type": "code",
   "execution_count": 106,
   "id": "f5afc9de",
   "metadata": {},
   "outputs": [
    {
     "name": "stdout",
     "output_type": "stream",
     "text": [
      "30 --> 20 --> 10 --> 12 --> 11 --> 55 --> 13 --> NULL\n"
     ]
    }
   ],
   "source": [
    "ll1.print_LL()"
   ]
  },
  {
   "cell_type": "code",
   "execution_count": 109,
   "id": "edc729b7",
   "metadata": {},
   "outputs": [
    {
     "name": "stdout",
     "output_type": "stream",
     "text": [
      "node is not present in LL\n"
     ]
    }
   ],
   "source": [
    "ll1.add_after(55,17)"
   ]
  },
  {
   "cell_type": "code",
   "execution_count": 111,
   "id": "4356049d",
   "metadata": {},
   "outputs": [
    {
     "name": "stdout",
     "output_type": "stream",
     "text": [
      "Linked List is Empty\n"
     ]
    }
   ],
   "source": [
    "ll1.print_LL()"
   ]
  },
  {
   "cell_type": "code",
   "execution_count": null,
   "id": "a5607831",
   "metadata": {},
   "outputs": [],
   "source": []
  },
  {
   "cell_type": "code",
   "execution_count": null,
   "id": "356bbc78",
   "metadata": {},
   "outputs": [],
   "source": []
  }
 ],
 "metadata": {
  "kernelspec": {
   "display_name": "Python 3 (ipykernel)",
   "language": "python",
   "name": "python3"
  },
  "language_info": {
   "codemirror_mode": {
    "name": "ipython",
    "version": 3
   },
   "file_extension": ".py",
   "mimetype": "text/x-python",
   "name": "python",
   "nbconvert_exporter": "python",
   "pygments_lexer": "ipython3",
   "version": "3.8.8"
  }
 },
 "nbformat": 4,
 "nbformat_minor": 5
}
