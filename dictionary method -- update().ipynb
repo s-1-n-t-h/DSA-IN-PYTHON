{
 "cells": [
  {
   "cell_type": "code",
   "execution_count": 1,
   "id": "a6b02958",
   "metadata": {},
   "outputs": [],
   "source": [
    "# dictionaries can't be concatenated"
   ]
  },
  {
   "cell_type": "code",
   "execution_count": 2,
   "id": "548b3857",
   "metadata": {},
   "outputs": [],
   "source": [
    "l1 = [1,2,3]"
   ]
  },
  {
   "cell_type": "code",
   "execution_count": 3,
   "id": "a70406b6",
   "metadata": {},
   "outputs": [],
   "source": [
    "l2 = ['a','b','c']"
   ]
  },
  {
   "cell_type": "code",
   "execution_count": 5,
   "id": "2a65e8b2",
   "metadata": {},
   "outputs": [
    {
     "data": {
      "text/plain": [
       "[1, 2, 3, 'a', 'b', 'c']"
      ]
     },
     "execution_count": 5,
     "metadata": {},
     "output_type": "execute_result"
    }
   ],
   "source": [
    "l1+l2"
   ]
  },
  {
   "cell_type": "code",
   "execution_count": 16,
   "id": "1fba34d3",
   "metadata": {},
   "outputs": [],
   "source": [
    "d1 = {1:'a',2:'b'}"
   ]
  },
  {
   "cell_type": "code",
   "execution_count": 7,
   "id": "8705adaf",
   "metadata": {},
   "outputs": [],
   "source": [
    "d2 = {3:'c'}"
   ]
  },
  {
   "cell_type": "code",
   "execution_count": 9,
   "id": "1b4a7a0e",
   "metadata": {},
   "outputs": [
    {
     "ename": "TypeError",
     "evalue": "unsupported operand type(s) for +: 'dict' and 'dict'",
     "output_type": "error",
     "traceback": [
      "\u001b[1;31m---------------------------------------------------------------------------\u001b[0m",
      "\u001b[1;31mTypeError\u001b[0m                                 Traceback (most recent call last)",
      "\u001b[1;32m~\\AppData\\Local\\Temp/ipykernel_9096/833095442.py\u001b[0m in \u001b[0;36m<module>\u001b[1;34m\u001b[0m\n\u001b[1;32m----> 1\u001b[1;33m \u001b[0md1\u001b[0m\u001b[1;33m+\u001b[0m\u001b[0md2\u001b[0m\u001b[1;33m\u001b[0m\u001b[1;33m\u001b[0m\u001b[0m\n\u001b[0m",
      "\u001b[1;31mTypeError\u001b[0m: unsupported operand type(s) for +: 'dict' and 'dict'"
     ]
    }
   ],
   "source": [
    "d1+d2"
   ]
  },
  {
   "cell_type": "code",
   "execution_count": 10,
   "id": "854ea346",
   "metadata": {},
   "outputs": [],
   "source": [
    "# above operation can be achieved using update method"
   ]
  },
  {
   "cell_type": "code",
   "execution_count": null,
   "id": "838c3904",
   "metadata": {},
   "outputs": [],
   "source": [
    "# dictionary.update(dictionary)"
   ]
  },
  {
   "cell_type": "code",
   "execution_count": 19,
   "id": "c2ed8338",
   "metadata": {},
   "outputs": [],
   "source": [
    "d1.update(d2)"
   ]
  },
  {
   "cell_type": "code",
   "execution_count": 20,
   "id": "0fce779b",
   "metadata": {},
   "outputs": [
    {
     "data": {
      "text/plain": [
       "{1: 'a', 2: 'b', 3: 'c'}"
      ]
     },
     "execution_count": 20,
     "metadata": {},
     "output_type": "execute_result"
    }
   ],
   "source": [
    "d1"
   ]
  },
  {
   "cell_type": "code",
   "execution_count": 1,
   "id": "26f26cc0",
   "metadata": {},
   "outputs": [],
   "source": [
    "dict1 = {1:'a',2:'b'}"
   ]
  },
  {
   "cell_type": "code",
   "execution_count": 2,
   "id": "a3a0f5af",
   "metadata": {},
   "outputs": [],
   "source": [
    "list1 = [3,'c']"
   ]
  },
  {
   "cell_type": "code",
   "execution_count": 5,
   "id": "a9e1239c",
   "metadata": {},
   "outputs": [],
   "source": [
    "dict1.update([list1])"
   ]
  },
  {
   "cell_type": "code",
   "execution_count": 6,
   "id": "b793eebf",
   "metadata": {},
   "outputs": [
    {
     "data": {
      "text/plain": [
       "{1: 'a', 2: 'b', 3: 'c'}"
      ]
     },
     "execution_count": 6,
     "metadata": {},
     "output_type": "execute_result"
    }
   ],
   "source": [
    "dict1"
   ]
  },
  {
   "cell_type": "code",
   "execution_count": 7,
   "id": "23bcba4c",
   "metadata": {},
   "outputs": [],
   "source": [
    "dict1.update(y=3,z=2,x=1)"
   ]
  },
  {
   "cell_type": "code",
   "execution_count": 9,
   "id": "6450c5cc",
   "metadata": {},
   "outputs": [
    {
     "data": {
      "text/plain": [
       "{1: 'a', 2: 'b', 3: 'c', 'y': 3, 'z': 2, 'x': 1}"
      ]
     },
     "execution_count": 9,
     "metadata": {},
     "output_type": "execute_result"
    }
   ],
   "source": [
    "dict1"
   ]
  },
  {
   "cell_type": "code",
   "execution_count": 10,
   "id": "a212325f",
   "metadata": {},
   "outputs": [],
   "source": [
    "dict2 = {1:'apple'}"
   ]
  },
  {
   "cell_type": "code",
   "execution_count": 11,
   "id": "64c55f0b",
   "metadata": {},
   "outputs": [],
   "source": [
    "dict1.update(dict2)"
   ]
  },
  {
   "cell_type": "code",
   "execution_count": 12,
   "id": "889d471b",
   "metadata": {},
   "outputs": [
    {
     "data": {
      "text/plain": [
       "{1: 'apple', 2: 'b', 3: 'c', 'y': 3, 'z': 2, 'x': 1}"
      ]
     },
     "execution_count": 12,
     "metadata": {},
     "output_type": "execute_result"
    }
   ],
   "source": [
    "dict1"
   ]
  },
  {
   "cell_type": "code",
   "execution_count": 13,
   "id": "33d57078",
   "metadata": {},
   "outputs": [],
   "source": [
    "dict2.update(dict1)"
   ]
  },
  {
   "cell_type": "code",
   "execution_count": 14,
   "id": "a9d96f21",
   "metadata": {},
   "outputs": [
    {
     "data": {
      "text/plain": [
       "{1: 'apple', 2: 'b', 3: 'c', 'y': 3, 'z': 2, 'x': 1}"
      ]
     },
     "execution_count": 14,
     "metadata": {},
     "output_type": "execute_result"
    }
   ],
   "source": [
    "dict2"
   ]
  },
  {
   "cell_type": "code",
   "execution_count": null,
   "id": "1f136d8b",
   "metadata": {},
   "outputs": [],
   "source": []
  }
 ],
 "metadata": {
  "kernelspec": {
   "display_name": "Python 3 (ipykernel)",
   "language": "python",
   "name": "python3"
  },
  "language_info": {
   "codemirror_mode": {
    "name": "ipython",
    "version": 3
   },
   "file_extension": ".py",
   "mimetype": "text/x-python",
   "name": "python",
   "nbconvert_exporter": "python",
   "pygments_lexer": "ipython3",
   "version": "3.8.8"
  }
 },
 "nbformat": 4,
 "nbformat_minor": 5
}
