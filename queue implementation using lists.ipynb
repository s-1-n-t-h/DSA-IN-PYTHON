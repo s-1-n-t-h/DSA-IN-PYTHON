{
 "cells": [
  {
   "cell_type": "code",
   "execution_count": 1,
   "id": "aa7e70e8",
   "metadata": {},
   "outputs": [],
   "source": [
    "# creating queue"
   ]
  },
  {
   "cell_type": "code",
   "execution_count": 2,
   "id": "0e95815e",
   "metadata": {},
   "outputs": [],
   "source": [
    "queue = []"
   ]
  },
  {
   "cell_type": "code",
   "execution_count": null,
   "id": "b33aa483",
   "metadata": {},
   "outputs": [],
   "source": [
    "# En queueing "
   ]
  },
  {
   "cell_type": "code",
   "execution_count": 3,
   "id": "21868c4b",
   "metadata": {},
   "outputs": [],
   "source": [
    "queue.append(10)"
   ]
  },
  {
   "cell_type": "code",
   "execution_count": 4,
   "id": "89895202",
   "metadata": {},
   "outputs": [],
   "source": [
    "queue.append(20)"
   ]
  },
  {
   "cell_type": "code",
   "execution_count": 5,
   "id": "02892bda",
   "metadata": {},
   "outputs": [
    {
     "data": {
      "text/plain": [
       "[10, 20]"
      ]
     },
     "execution_count": 5,
     "metadata": {},
     "output_type": "execute_result"
    }
   ],
   "source": [
    "queue"
   ]
  },
  {
   "cell_type": "code",
   "execution_count": 6,
   "id": "39054e88",
   "metadata": {},
   "outputs": [],
   "source": [
    "queue.append(30)"
   ]
  },
  {
   "cell_type": "code",
   "execution_count": 7,
   "id": "bc7a6352",
   "metadata": {},
   "outputs": [],
   "source": [
    "# de queueing"
   ]
  },
  {
   "cell_type": "code",
   "execution_count": 8,
   "id": "17733a17",
   "metadata": {},
   "outputs": [
    {
     "data": {
      "text/plain": [
       "10"
      ]
     },
     "execution_count": 8,
     "metadata": {},
     "output_type": "execute_result"
    }
   ],
   "source": [
    "queue.pop(0)"
   ]
  },
  {
   "cell_type": "code",
   "execution_count": 9,
   "id": "1a95fa5f",
   "metadata": {},
   "outputs": [
    {
     "data": {
      "text/plain": [
       "20"
      ]
     },
     "execution_count": 9,
     "metadata": {},
     "output_type": "execute_result"
    }
   ],
   "source": [
    "queue.pop(0)"
   ]
  },
  {
   "cell_type": "code",
   "execution_count": 10,
   "id": "c72324a3",
   "metadata": {},
   "outputs": [
    {
     "data": {
      "text/plain": [
       "30"
      ]
     },
     "execution_count": 10,
     "metadata": {},
     "output_type": "execute_result"
    }
   ],
   "source": [
    "queue.pop(0)"
   ]
  },
  {
   "cell_type": "code",
   "execution_count": 11,
   "id": "961f2793",
   "metadata": {},
   "outputs": [
    {
     "ename": "IndexError",
     "evalue": "pop from empty list",
     "output_type": "error",
     "traceback": [
      "\u001b[1;31m---------------------------------------------------------------------------\u001b[0m",
      "\u001b[1;31mIndexError\u001b[0m                                Traceback (most recent call last)",
      "\u001b[1;32m~\\AppData\\Local\\Temp/ipykernel_1216/1474057533.py\u001b[0m in \u001b[0;36m<module>\u001b[1;34m\u001b[0m\n\u001b[1;32m----> 1\u001b[1;33m \u001b[0mqueue\u001b[0m\u001b[1;33m.\u001b[0m\u001b[0mpop\u001b[0m\u001b[1;33m(\u001b[0m\u001b[1;36m0\u001b[0m\u001b[1;33m)\u001b[0m\u001b[1;33m\u001b[0m\u001b[1;33m\u001b[0m\u001b[0m\n\u001b[0m",
      "\u001b[1;31mIndexError\u001b[0m: pop from empty list"
     ]
    }
   ],
   "source": [
    "queue.pop(0)"
   ]
  },
  {
   "cell_type": "code",
   "execution_count": 12,
   "id": "7809ca1c",
   "metadata": {},
   "outputs": [],
   "source": [
    "# if queue is to be implemented in rever direction"
   ]
  },
  {
   "cell_type": "code",
   "execution_count": 13,
   "id": "71fa2c49",
   "metadata": {},
   "outputs": [],
   "source": [
    "# use insert(0,data) to insert from back"
   ]
  },
  {
   "cell_type": "code",
   "execution_count": 14,
   "id": "c49958da",
   "metadata": {},
   "outputs": [],
   "source": [
    "# use pop() to dequeue the data"
   ]
  },
  {
   "cell_type": "code",
   "execution_count": 15,
   "id": "14e898db",
   "metadata": {},
   "outputs": [],
   "source": [
    "queue = []"
   ]
  },
  {
   "cell_type": "code",
   "execution_count": 21,
   "id": "ab1ac6a1",
   "metadata": {},
   "outputs": [],
   "source": [
    "#appending from the rear in reverse direction of normal usage"
   ]
  },
  {
   "cell_type": "code",
   "execution_count": 16,
   "id": "b85481a4",
   "metadata": {},
   "outputs": [],
   "source": [
    "queue.insert(0,1)"
   ]
  },
  {
   "cell_type": "code",
   "execution_count": 17,
   "id": "76c8d117",
   "metadata": {},
   "outputs": [],
   "source": [
    "queue.insert(0,2)"
   ]
  },
  {
   "cell_type": "code",
   "execution_count": 18,
   "id": "fffe19a4",
   "metadata": {},
   "outputs": [],
   "source": [
    "queue.insert(0,3)"
   ]
  },
  {
   "cell_type": "code",
   "execution_count": 19,
   "id": "8138b5be",
   "metadata": {},
   "outputs": [],
   "source": [
    "queue.insert(0,4)"
   ]
  },
  {
   "cell_type": "code",
   "execution_count": 20,
   "id": "558aff8a",
   "metadata": {},
   "outputs": [
    {
     "data": {
      "text/plain": [
       "[4, 3, 2, 1]"
      ]
     },
     "execution_count": 20,
     "metadata": {},
     "output_type": "execute_result"
    }
   ],
   "source": [
    "queue"
   ]
  },
  {
   "cell_type": "code",
   "execution_count": 22,
   "id": "b04cf8e9",
   "metadata": {},
   "outputs": [],
   "source": [
    "# dequeuing "
   ]
  },
  {
   "cell_type": "code",
   "execution_count": 23,
   "id": "566d78cc",
   "metadata": {},
   "outputs": [
    {
     "data": {
      "text/plain": [
       "1"
      ]
     },
     "execution_count": 23,
     "metadata": {},
     "output_type": "execute_result"
    }
   ],
   "source": [
    "queue.pop()"
   ]
  },
  {
   "cell_type": "code",
   "execution_count": 24,
   "id": "13fdd010",
   "metadata": {},
   "outputs": [
    {
     "data": {
      "text/plain": [
       "2"
      ]
     },
     "execution_count": 24,
     "metadata": {},
     "output_type": "execute_result"
    }
   ],
   "source": [
    "queue.pop()"
   ]
  },
  {
   "cell_type": "code",
   "execution_count": 25,
   "id": "5e129d6a",
   "metadata": {},
   "outputs": [
    {
     "data": {
      "text/plain": [
       "3"
      ]
     },
     "execution_count": 25,
     "metadata": {},
     "output_type": "execute_result"
    }
   ],
   "source": [
    "queue.pop()"
   ]
  },
  {
   "cell_type": "code",
   "execution_count": 26,
   "id": "6dc71d29",
   "metadata": {},
   "outputs": [
    {
     "data": {
      "text/plain": [
       "[4]"
      ]
     },
     "execution_count": 26,
     "metadata": {},
     "output_type": "execute_result"
    }
   ],
   "source": [
    "queue"
   ]
  },
  {
   "cell_type": "code",
   "execution_count": 27,
   "id": "fc672838",
   "metadata": {},
   "outputs": [
    {
     "data": {
      "text/plain": [
       "4"
      ]
     },
     "execution_count": 27,
     "metadata": {},
     "output_type": "execute_result"
    }
   ],
   "source": [
    "queue.pop()"
   ]
  },
  {
   "cell_type": "code",
   "execution_count": 28,
   "id": "f88ec861",
   "metadata": {},
   "outputs": [
    {
     "data": {
      "text/plain": [
       "[]"
      ]
     },
     "execution_count": 28,
     "metadata": {},
     "output_type": "execute_result"
    }
   ],
   "source": [
    "queue"
   ]
  },
  {
   "cell_type": "code",
   "execution_count": 29,
   "id": "626824ee",
   "metadata": {},
   "outputs": [
    {
     "data": {
      "text/plain": [
       "True"
      ]
     },
     "execution_count": 29,
     "metadata": {},
     "output_type": "execute_result"
    }
   ],
   "source": [
    "not queue"
   ]
  },
  {
   "cell_type": "code",
   "execution_count": 30,
   "id": "a3121b3f",
   "metadata": {},
   "outputs": [
    {
     "data": {
      "text/plain": [
       "0"
      ]
     },
     "execution_count": 30,
     "metadata": {},
     "output_type": "execute_result"
    }
   ],
   "source": [
    "len(queue)"
   ]
  },
  {
   "cell_type": "code",
   "execution_count": 31,
   "id": "611c7ddb",
   "metadata": {},
   "outputs": [],
   "source": [
    "queue.insert(0,1)\n",
    "queue.insert(0,2)\n",
    "queue.insert(0,3)"
   ]
  },
  {
   "cell_type": "code",
   "execution_count": 32,
   "id": "a89749b5",
   "metadata": {},
   "outputs": [],
   "source": [
    "# to see elements at rear and front positions"
   ]
  },
  {
   "cell_type": "code",
   "execution_count": 33,
   "id": "68639a2d",
   "metadata": {},
   "outputs": [
    {
     "data": {
      "text/plain": [
       "1"
      ]
     },
     "execution_count": 33,
     "metadata": {},
     "output_type": "execute_result"
    }
   ],
   "source": [
    "queue[-1]"
   ]
  },
  {
   "cell_type": "code",
   "execution_count": 34,
   "id": "07f2f3e4",
   "metadata": {},
   "outputs": [
    {
     "data": {
      "text/plain": [
       "3"
      ]
     },
     "execution_count": 34,
     "metadata": {},
     "output_type": "execute_result"
    }
   ],
   "source": [
    "queue[0]"
   ]
  },
  {
   "cell_type": "code",
   "execution_count": 35,
   "id": "215eb786",
   "metadata": {},
   "outputs": [],
   "source": [
    "# implementation"
   ]
  },
  {
   "cell_type": "code",
   "execution_count": 1,
   "id": "59f13794",
   "metadata": {},
   "outputs": [],
   "source": [
    "queue = []"
   ]
  },
  {
   "cell_type": "code",
   "execution_count": 2,
   "id": "d69d66e3",
   "metadata": {},
   "outputs": [],
   "source": [
    "def enqueue():\n",
    "    queue.append(input('enter the element: '))\n",
    "    print(queue[-1],'is added to queue!')"
   ]
  },
  {
   "cell_type": "code",
   "execution_count": 3,
   "id": "77b541bc",
   "metadata": {},
   "outputs": [],
   "source": [
    "def dequeue():\n",
    "    if not queue:\n",
    "        print('queue is empty!')\n",
    "    else:\n",
    "        print('removed element: ',queue.pop(0))"
   ]
  },
  {
   "cell_type": "code",
   "execution_count": 4,
   "id": "b3b612ea",
   "metadata": {},
   "outputs": [],
   "source": [
    "def display():\n",
    "    print(queue)"
   ]
  },
  {
   "cell_type": "code",
   "execution_count": 5,
   "id": "42386b2e",
   "metadata": {},
   "outputs": [
    {
     "name": "stdout",
     "output_type": "stream",
     "text": [
      "select 1.add 2.remove 3.show 4.quit\n",
      "1\n",
      "enter the element: 9\n",
      "9 is added to queue!\n",
      "select 1.add 2.remove 3.show 4.quit\n",
      "1\n",
      "enter the element: 6\n",
      "6 is added to queue!\n",
      "select 1.add 2.remove 3.show 4.quit\n",
      "1\n",
      "enter the element: 3\n",
      "3 is added to queue!\n",
      "select 1.add 2.remove 3.show 4.quit\n",
      "3\n",
      "['9', '6', '3']\n",
      "select 1.add 2.remove 3.show 4.quit\n",
      "2\n",
      "removed element:  9\n",
      "select 1.add 2.remove 3.show 4.quit\n",
      "2\n",
      "removed element:  6\n",
      "select 1.add 2.remove 3.show 4.quit\n",
      "2\n",
      "removed element:  3\n",
      "select 1.add 2.remove 3.show 4.quit\n",
      "2\n",
      "queue is empty!\n",
      "select 1.add 2.remove 3.show 4.quit\n",
      "4\n"
     ]
    }
   ],
   "source": [
    "while True:\n",
    "    print(\"select 1.add 2.remove 3.show 4.quit\")\n",
    "    choice = int(input())\n",
    "    if choice==1:\n",
    "        enqueue()\n",
    "    elif choice==2:\n",
    "        dequeue()\n",
    "    elif choice==3:\n",
    "        display()\n",
    "    elif choice==4:\n",
    "        break\n",
    "    else:\n",
    "        print(\"enter the correct operation!\")"
   ]
  },
  {
   "cell_type": "code",
   "execution_count": null,
   "id": "952394f2",
   "metadata": {},
   "outputs": [],
   "source": []
  }
 ],
 "metadata": {
  "kernelspec": {
   "display_name": "Python 3 (ipykernel)",
   "language": "python",
   "name": "python3"
  },
  "language_info": {
   "codemirror_mode": {
    "name": "ipython",
    "version": 3
   },
   "file_extension": ".py",
   "mimetype": "text/x-python",
   "name": "python",
   "nbconvert_exporter": "python",
   "pygments_lexer": "ipython3",
   "version": "3.8.8"
  }
 },
 "nbformat": 4,
 "nbformat_minor": 5
}
