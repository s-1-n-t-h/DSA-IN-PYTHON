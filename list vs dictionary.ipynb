{
 "cells": [
  {
   "cell_type": "code",
   "execution_count": 1,
   "id": "c636d13a",
   "metadata": {},
   "outputs": [],
   "source": [
    "#accesing data"
   ]
  },
  {
   "cell_type": "code",
   "execution_count": 2,
   "id": "ad388107",
   "metadata": {},
   "outputs": [],
   "source": [
    "# in lists performed by using concept of indexing"
   ]
  },
  {
   "cell_type": "code",
   "execution_count": 3,
   "id": "461f63fd",
   "metadata": {},
   "outputs": [],
   "source": [
    "list1 = [2,3.4,'hello']"
   ]
  },
  {
   "cell_type": "code",
   "execution_count": 4,
   "id": "5bb1dba5",
   "metadata": {},
   "outputs": [
    {
     "data": {
      "text/plain": [
       "'hello'"
      ]
     },
     "execution_count": 4,
     "metadata": {},
     "output_type": "execute_result"
    }
   ],
   "source": [
    "list1[2]"
   ]
  },
  {
   "cell_type": "code",
   "execution_count": 5,
   "id": "79b8fdc0",
   "metadata": {},
   "outputs": [],
   "source": [
    "#in dictionaries done using concept of keys "
   ]
  },
  {
   "cell_type": "code",
   "execution_count": 6,
   "id": "c14a6f88",
   "metadata": {},
   "outputs": [],
   "source": [
    "dict1 = {1:'one',2:'two',3:'three'}"
   ]
  },
  {
   "cell_type": "code",
   "execution_count": 7,
   "id": "84221f29",
   "metadata": {},
   "outputs": [
    {
     "data": {
      "text/plain": [
       "'two'"
      ]
     },
     "execution_count": 7,
     "metadata": {},
     "output_type": "execute_result"
    }
   ],
   "source": [
    "dict1[2]"
   ]
  },
  {
   "cell_type": "code",
   "execution_count": 8,
   "id": "0c764f8f",
   "metadata": {},
   "outputs": [],
   "source": [
    "# lists are ordered data while dictionaries are un-ordered"
   ]
  },
  {
   "cell_type": "code",
   "execution_count": null,
   "id": "c793715d",
   "metadata": {},
   "outputs": [],
   "source": []
  },
  {
   "cell_type": "code",
   "execution_count": 9,
   "id": "86b03e68",
   "metadata": {},
   "outputs": [],
   "source": [
    "#temperature difeerence program using list"
   ]
  },
  {
   "cell_type": "code",
   "execution_count": null,
   "id": "80281642",
   "metadata": {},
   "outputs": [],
   "source": [
    "#using lsists"
   ]
  },
  {
   "cell_type": "code",
   "execution_count": 12,
   "id": "b01a9baa",
   "metadata": {},
   "outputs": [
    {
     "name": "stdout",
     "output_type": "stream",
     "text": [
      "enter 'sun','mon','tue','wed','thur','fri' or 'sat:'sun\n",
      "the temperature for: sunday was 68 degrees\n"
     ]
    }
   ],
   "source": [
    "daily_temp = [68,71,67,71.8,73.4,75.5,75]\n",
    "day = input(\"enter 'sun','mon','tue','wed','thur','fri' or 'sat:'\")\n",
    "if day == 'sun':\n",
    "    dayname = 'sunday'\n",
    "    temp = daily_temp[0]\n",
    "elif day == 'mon':\n",
    "    dayname = 'monday'\n",
    "    temp = daily_temp[1]\n",
    "elif day == 'tue':\n",
    "    dayname = 'tuesday'\n",
    "    temp = daily_temp[2]\n",
    "elif day == 'wed':\n",
    "    dayname = 'wednesday'\n",
    "    temp = daily_temp[3]\n",
    "elif day == 'thur':\n",
    "    dayname = 'thursday'\n",
    "    temp = daily_temp[4]\n",
    "elif day == 'fri':\n",
    "    dayname = 'friday'\n",
    "    temp = daily_temp[5]\n",
    "elif day == 'sat':\n",
    "    dayname = 'saturday'\n",
    "    temp = daily_temp[6]\n",
    "else:\n",
    "    print(\"invalid input\")\n",
    "\n",
    "print(\"the temperature for:\",dayname,\"was\",temp,'degrees')"
   ]
  },
  {
   "cell_type": "code",
   "execution_count": 13,
   "id": "74d1701e",
   "metadata": {},
   "outputs": [],
   "source": [
    "#using dictionaries"
   ]
  },
  {
   "cell_type": "code",
   "execution_count": 18,
   "id": "d481839a",
   "metadata": {},
   "outputs": [
    {
     "name": "stdout",
     "output_type": "stream",
     "text": [
      "enter 'sun','mon','tue','wed','thur','fri' or 'sat:'wed\n",
      "the temperature for: wednesday was 71.7 degrees\n"
     ]
    }
   ],
   "source": [
    "daily_temps = {'sun':68,'mon':71,'tue':67,'wed':71.7,'thu':73.4,'fri':75.5,'sat':75}\n",
    "day_name = {'sun':'sunday','mon':'monday','tue':'tuesday','wed':'wednesday','thu':'thursaday','fri':'friday','sat':'saturday'}\n",
    "day = input(\"enter 'sun','mon','tue','wed','thur','fri' or 'sat:'\")\n",
    "print(\"the temperature for:\",day_name[day],\"was\",daily_temps[day],'degrees')"
   ]
  },
  {
   "cell_type": "code",
   "execution_count": null,
   "id": "4e76b9bb",
   "metadata": {},
   "outputs": [],
   "source": []
  }
 ],
 "metadata": {
  "kernelspec": {
   "display_name": "Python 3 (ipykernel)",
   "language": "python",
   "name": "python3"
  },
  "language_info": {
   "codemirror_mode": {
    "name": "ipython",
    "version": 3
   },
   "file_extension": ".py",
   "mimetype": "text/x-python",
   "name": "python",
   "nbconvert_exporter": "python",
   "pygments_lexer": "ipython3",
   "version": "3.8.8"
  }
 },
 "nbformat": 4,
 "nbformat_minor": 5
}
