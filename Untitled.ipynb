{
 "cells": [
  {
   "cell_type": "code",
   "execution_count": 1,
   "id": "2c40784b",
   "metadata": {},
   "outputs": [],
   "source": [
    "class Node:\n",
    "    def __init__(self,data):\n",
    "        self.data = data\n",
    "        self.ref = None"
   ]
  },
  {
   "cell_type": "code",
   "execution_count": 19,
   "id": "4d10a7f2",
   "metadata": {},
   "outputs": [],
   "source": [
    "class LinkedList:\n",
    "    def __init__(self):\n",
    "        self.head = None\n",
    "    def print_ll(self):\n",
    "        if self.head is None:\n",
    "            print(\"Linked List is empty\")\n",
    "        else:\n",
    "            n = self.head\n",
    "            while n is not None:\n",
    "                print(n.data,\"->\",end=\" \")\n",
    "                n = n.ref\n",
    "            print(\"null\")\n",
    "    def add_begin(self,data):\n",
    "        new_node = Node(data)\n",
    "        new_node.ref = self.head\n",
    "        self.head = new_node\n",
    "    def add_end(self,data):\n",
    "        new_node = Node(data)\n",
    "        if self.head is None:\n",
    "            self.head = new_node\n",
    "        else:\n",
    "            n = self.head\n",
    "            while n.ref is not None:\n",
    "                n = n.ref\n",
    "            n.ref = new_node\n",
    "    def add_after(self,data,x):\n",
    "        n = self.head \n",
    "        while n is not None:\n",
    "            if n.data == x:\n",
    "                break\n",
    "            else:\n",
    "                n = n.ref\n",
    "        if n is None:\n",
    "            print('node is not present in the linked list')\n",
    "        else:\n",
    "            new_node = Node(data)\n",
    "            new_node.ref = n.ref\n",
    "            n.ref = new_node\n",
    "    \n",
    "                \n",
    "        \n",
    "        "
   ]
  },
  {
   "cell_type": "code",
   "execution_count": 20,
   "id": "824e6310",
   "metadata": {},
   "outputs": [],
   "source": [
    "lk1 = LinkedList()"
   ]
  },
  {
   "cell_type": "code",
   "execution_count": 21,
   "id": "ea4875fe",
   "metadata": {},
   "outputs": [],
   "source": [
    "lk1.add_begin(10)"
   ]
  },
  {
   "cell_type": "code",
   "execution_count": 22,
   "id": "49abf6c6",
   "metadata": {},
   "outputs": [],
   "source": [
    "lk1.add_begin(20)"
   ]
  },
  {
   "cell_type": "code",
   "execution_count": 23,
   "id": "4f25f7a0",
   "metadata": {},
   "outputs": [
    {
     "name": "stdout",
     "output_type": "stream",
     "text": [
      "20 -> 10 -> null\n"
     ]
    }
   ],
   "source": [
    "lk1.print_ll()"
   ]
  },
  {
   "cell_type": "code",
   "execution_count": 24,
   "id": "fc14bc1c",
   "metadata": {},
   "outputs": [],
   "source": [
    "lk1.add_end(30)"
   ]
  },
  {
   "cell_type": "code",
   "execution_count": 25,
   "id": "e280dba6",
   "metadata": {},
   "outputs": [],
   "source": [
    "lk1.add_end(40)"
   ]
  },
  {
   "cell_type": "code",
   "execution_count": 26,
   "id": "c06fa7b6",
   "metadata": {},
   "outputs": [
    {
     "name": "stdout",
     "output_type": "stream",
     "text": [
      "20 -> 10 -> 30 -> 40 -> null\n"
     ]
    }
   ],
   "source": [
    "lk1.print_ll()"
   ]
  },
  {
   "cell_type": "code",
   "execution_count": 27,
   "id": "2b430b54",
   "metadata": {},
   "outputs": [],
   "source": [
    "lk1.add_after(50,40)"
   ]
  },
  {
   "cell_type": "code",
   "execution_count": 28,
   "id": "8b349c5a",
   "metadata": {},
   "outputs": [
    {
     "name": "stdout",
     "output_type": "stream",
     "text": [
      "20 -> 10 -> 30 -> 40 -> 50 -> null\n"
     ]
    }
   ],
   "source": [
    "lk1.print_ll()"
   ]
  },
  {
   "cell_type": "code",
   "execution_count": null,
   "id": "f9eb2095",
   "metadata": {},
   "outputs": [],
   "source": []
  }
 ],
 "metadata": {
  "kernelspec": {
   "display_name": "Python 3 (ipykernel)",
   "language": "python",
   "name": "python3"
  },
  "language_info": {
   "codemirror_mode": {
    "name": "ipython",
    "version": 3
   },
   "file_extension": ".py",
   "mimetype": "text/x-python",
   "name": "python",
   "nbconvert_exporter": "python",
   "pygments_lexer": "ipython3",
   "version": "3.8.8"
  }
 },
 "nbformat": 4,
 "nbformat_minor": 5
}
