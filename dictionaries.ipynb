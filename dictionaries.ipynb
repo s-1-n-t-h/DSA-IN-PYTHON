{
 "cells": [
  {
   "cell_type": "code",
   "execution_count": 1,
   "id": "b1f83f5b",
   "metadata": {},
   "outputs": [],
   "source": [
    "#dictionaries -- associated data structure"
   ]
  },
  {
   "cell_type": "code",
   "execution_count": 2,
   "id": "8dfa49ee",
   "metadata": {},
   "outputs": [],
   "source": [
    "#mutable"
   ]
  },
  {
   "cell_type": "code",
   "execution_count": 4,
   "id": "95aa7ff9",
   "metadata": {},
   "outputs": [],
   "source": [
    "temp = {}"
   ]
  },
  {
   "cell_type": "code",
   "execution_count": 6,
   "id": "8c964d04",
   "metadata": {},
   "outputs": [],
   "source": [
    "temp['sun'] = 33.4"
   ]
  },
  {
   "cell_type": "code",
   "execution_count": 7,
   "id": "f4a2ca39",
   "metadata": {},
   "outputs": [],
   "source": [
    "temp['mon'] = 45"
   ]
  },
  {
   "cell_type": "code",
   "execution_count": 8,
   "id": "04081e25",
   "metadata": {},
   "outputs": [],
   "source": [
    "temp['tue'] = 30"
   ]
  },
  {
   "cell_type": "code",
   "execution_count": 9,
   "id": "3ab13c85",
   "metadata": {},
   "outputs": [
    {
     "data": {
      "text/plain": [
       "{'sun': 33.4, 'mon': 45, 'tue': 30}"
      ]
     },
     "execution_count": 9,
     "metadata": {},
     "output_type": "execute_result"
    }
   ],
   "source": [
    "temp"
   ]
  },
  {
   "cell_type": "code",
   "execution_count": 11,
   "id": "f4d3901d",
   "metadata": {},
   "outputs": [],
   "source": [
    "mail_address = {'amul':\"amulya@gmaul.com\",'jenni':'jenni@gmail.com','raz':'raz@gmail.com'}"
   ]
  },
  {
   "cell_type": "code",
   "execution_count": 12,
   "id": "3f9b9af7",
   "metadata": {},
   "outputs": [
    {
     "data": {
      "text/plain": [
       "{'amul': 'amulya@gmaul.com',\n",
       " 'jenni': 'jenni@gmail.com',\n",
       " 'raz': 'raz@gmail.com'}"
      ]
     },
     "execution_count": 12,
     "metadata": {},
     "output_type": "execute_result"
    }
   ],
   "source": [
    "mail_address"
   ]
  },
  {
   "cell_type": "code",
   "execution_count": 13,
   "id": "ca32940b",
   "metadata": {},
   "outputs": [
    {
     "data": {
      "text/plain": [
       "dict_keys(['amul', 'jenni', 'raz'])"
      ]
     },
     "execution_count": 13,
     "metadata": {},
     "output_type": "execute_result"
    }
   ],
   "source": [
    "mail_address.keys()"
   ]
  },
  {
   "cell_type": "code",
   "execution_count": 15,
   "id": "eeb4997f",
   "metadata": {},
   "outputs": [
    {
     "data": {
      "text/plain": [
       "dict_values(['amulya@gmaul.com', 'jenni@gmail.com', 'raz@gmail.com'])"
      ]
     },
     "execution_count": 15,
     "metadata": {},
     "output_type": "execute_result"
    }
   ],
   "source": [
    "mail_address.values()"
   ]
  },
  {
   "cell_type": "code",
   "execution_count": 16,
   "id": "0000636b",
   "metadata": {},
   "outputs": [
    {
     "data": {
      "text/plain": [
       "'jenni@gmail.com'"
      ]
     },
     "execution_count": 16,
     "metadata": {},
     "output_type": "execute_result"
    }
   ],
   "source": [
    "mail_address['jenni']"
   ]
  },
  {
   "cell_type": "code",
   "execution_count": 17,
   "id": "bd1b538b",
   "metadata": {},
   "outputs": [
    {
     "data": {
      "text/plain": [
       "'raz@gmail.com'"
      ]
     },
     "execution_count": 17,
     "metadata": {},
     "output_type": "execute_result"
    }
   ],
   "source": [
    "mail_address[\"raz\"]"
   ]
  },
  {
   "cell_type": "code",
   "execution_count": null,
   "id": "823e4453",
   "metadata": {},
   "outputs": [],
   "source": []
  }
 ],
 "metadata": {
  "kernelspec": {
   "display_name": "Python 3 (ipykernel)",
   "language": "python",
   "name": "python3"
  },
  "language_info": {
   "codemirror_mode": {
    "name": "ipython",
    "version": 3
   },
   "file_extension": ".py",
   "mimetype": "text/x-python",
   "name": "python",
   "nbconvert_exporter": "python",
   "pygments_lexer": "ipython3",
   "version": "3.8.8"
  }
 },
 "nbformat": 4,
 "nbformat_minor": 5
}
