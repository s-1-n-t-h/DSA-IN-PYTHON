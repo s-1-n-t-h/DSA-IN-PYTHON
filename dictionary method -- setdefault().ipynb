{
 "cells": [
  {
   "cell_type": "code",
   "execution_count": 1,
   "id": "c1ae2c75",
   "metadata": {},
   "outputs": [],
   "source": [
    "# setdefault(key,value)"
   ]
  },
  {
   "cell_type": "code",
   "execution_count": 2,
   "id": "3d7d77c5",
   "metadata": {},
   "outputs": [],
   "source": [
    "# if key is present in the dictionary -- it would return the value of that key"
   ]
  },
  {
   "cell_type": "code",
   "execution_count": 3,
   "id": "2a9f5931",
   "metadata": {},
   "outputs": [],
   "source": [
    "# otherwise creates a new key value pair"
   ]
  },
  {
   "cell_type": "code",
   "execution_count": 4,
   "id": "7b0f2687",
   "metadata": {},
   "outputs": [],
   "source": [
    "students = {'jhon':20,'ria':21,'ann':22}"
   ]
  },
  {
   "cell_type": "code",
   "execution_count": 5,
   "id": "bd3d9c5c",
   "metadata": {},
   "outputs": [
    {
     "data": {
      "text/plain": [
       "20"
      ]
     },
     "execution_count": 5,
     "metadata": {},
     "output_type": "execute_result"
    }
   ],
   "source": [
    "students.setdefault('jhon')"
   ]
  },
  {
   "cell_type": "code",
   "execution_count": 7,
   "id": "7f03c39c",
   "metadata": {},
   "outputs": [
    {
     "data": {
      "text/plain": [
       "20"
      ]
     },
     "execution_count": 7,
     "metadata": {},
     "output_type": "execute_result"
    }
   ],
   "source": [
    "students.setdefault('jhon',30)"
   ]
  },
  {
   "cell_type": "code",
   "execution_count": 8,
   "id": "f55daf4a",
   "metadata": {},
   "outputs": [],
   "source": [
    "students.setdefault('anabell')"
   ]
  },
  {
   "cell_type": "code",
   "execution_count": 9,
   "id": "1de0ba0a",
   "metadata": {},
   "outputs": [
    {
     "data": {
      "text/plain": [
       "{'jhon': 20, 'ria': 21, 'ann': 22, 'anabell': None}"
      ]
     },
     "execution_count": 9,
     "metadata": {},
     "output_type": "execute_result"
    }
   ],
   "source": [
    "students"
   ]
  },
  {
   "cell_type": "code",
   "execution_count": 10,
   "id": "4e90351b",
   "metadata": {},
   "outputs": [
    {
     "data": {
      "text/plain": [
       "10"
      ]
     },
     "execution_count": 10,
     "metadata": {},
     "output_type": "execute_result"
    }
   ],
   "source": [
    "students.setdefault('roo',10)"
   ]
  },
  {
   "cell_type": "code",
   "execution_count": 11,
   "id": "1003dec0",
   "metadata": {},
   "outputs": [
    {
     "data": {
      "text/plain": [
       "{'jhon': 20, 'ria': 21, 'ann': 22, 'anabell': None, 'roo': 10}"
      ]
     },
     "execution_count": 11,
     "metadata": {},
     "output_type": "execute_result"
    }
   ],
   "source": [
    "students"
   ]
  },
  {
   "cell_type": "code",
   "execution_count": null,
   "id": "ab40443c",
   "metadata": {},
   "outputs": [],
   "source": []
  }
 ],
 "metadata": {
  "kernelspec": {
   "display_name": "Python 3 (ipykernel)",
   "language": "python",
   "name": "python3"
  },
  "language_info": {
   "codemirror_mode": {
    "name": "ipython",
    "version": 3
   },
   "file_extension": ".py",
   "mimetype": "text/x-python",
   "name": "python",
   "nbconvert_exporter": "python",
   "pygments_lexer": "ipython3",
   "version": "3.8.8"
  }
 },
 "nbformat": 4,
 "nbformat_minor": 5
}
