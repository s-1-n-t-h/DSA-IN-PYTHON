{
 "cells": [
  {
   "cell_type": "code",
   "execution_count": 3,
   "id": "fe4f9121",
   "metadata": {},
   "outputs": [],
   "source": [
    "#key should of immutable type - [list,dictionary] can't be used"
   ]
  },
  {
   "cell_type": "code",
   "execution_count": 2,
   "id": "1bf10e68",
   "metadata": {},
   "outputs": [],
   "source": [
    "#value can be a mutable or a immutable type "
   ]
  },
  {
   "cell_type": "code",
   "execution_count": 4,
   "id": "3a1a5082",
   "metadata": {},
   "outputs": [],
   "source": [
    "#different ways of creating"
   ]
  },
  {
   "cell_type": "code",
   "execution_count": null,
   "id": "d1846c47",
   "metadata": {},
   "outputs": [],
   "source": [
    "#1"
   ]
  },
  {
   "cell_type": "code",
   "execution_count": 7,
   "id": "4ba6c5b3",
   "metadata": {},
   "outputs": [],
   "source": [
    "my_dict = {1:'apple',2:'ball',3:'cat'}"
   ]
  },
  {
   "cell_type": "code",
   "execution_count": 8,
   "id": "e9398793",
   "metadata": {},
   "outputs": [
    {
     "data": {
      "text/plain": [
       "{1: 'apple', 2: 'ball', 3: 'cat'}"
      ]
     },
     "execution_count": 8,
     "metadata": {},
     "output_type": "execute_result"
    }
   ],
   "source": [
    "my_dict"
   ]
  },
  {
   "cell_type": "code",
   "execution_count": null,
   "id": "80cade60",
   "metadata": {},
   "outputs": [],
   "source": [
    "#2"
   ]
  },
  {
   "cell_type": "code",
   "execution_count": 9,
   "id": "ba3e2559",
   "metadata": {},
   "outputs": [],
   "source": [
    "my_dict = {}"
   ]
  },
  {
   "cell_type": "code",
   "execution_count": 10,
   "id": "f853fde9",
   "metadata": {},
   "outputs": [],
   "source": [
    "my_dict[1] = 'apple'"
   ]
  },
  {
   "cell_type": "code",
   "execution_count": 11,
   "id": "0b9de57f",
   "metadata": {},
   "outputs": [],
   "source": [
    "my_dict[2] = 'bat'"
   ]
  },
  {
   "cell_type": "code",
   "execution_count": 12,
   "id": "d0b1a9e1",
   "metadata": {},
   "outputs": [],
   "source": [
    "my_dict[3] = 'cat'"
   ]
  },
  {
   "cell_type": "code",
   "execution_count": 13,
   "id": "f6ef643b",
   "metadata": {},
   "outputs": [
    {
     "data": {
      "text/plain": [
       "{1: 'apple', 2: 'bat', 3: 'cat'}"
      ]
     },
     "execution_count": 13,
     "metadata": {},
     "output_type": "execute_result"
    }
   ],
   "source": [
    "my_dict"
   ]
  },
  {
   "cell_type": "code",
   "execution_count": 14,
   "id": "d61939fa",
   "metadata": {},
   "outputs": [],
   "source": [
    "#3 -- using dictionary constructor"
   ]
  },
  {
   "cell_type": "code",
   "execution_count": 15,
   "id": "123f0ac4",
   "metadata": {},
   "outputs": [],
   "source": [
    "d = dict([(1,'apple'),(2,'ball'),(3,'cat')])"
   ]
  },
  {
   "cell_type": "code",
   "execution_count": 16,
   "id": "a9241d36",
   "metadata": {},
   "outputs": [
    {
     "data": {
      "text/plain": [
       "{1: 'apple', 2: 'ball', 3: 'cat'}"
      ]
     },
     "execution_count": 16,
     "metadata": {},
     "output_type": "execute_result"
    }
   ],
   "source": [
    "d"
   ]
  },
  {
   "cell_type": "code",
   "execution_count": 17,
   "id": "a4eb6d6f",
   "metadata": {},
   "outputs": [],
   "source": [
    "a = [1,2,3,4]"
   ]
  },
  {
   "cell_type": "code",
   "execution_count": 18,
   "id": "53c8e7c2",
   "metadata": {},
   "outputs": [],
   "source": [
    "b = ['apple','ball','cat','dog']"
   ]
  },
  {
   "cell_type": "code",
   "execution_count": 19,
   "id": "2045cf68",
   "metadata": {},
   "outputs": [],
   "source": [
    "my_dict = {}"
   ]
  },
  {
   "cell_type": "code",
   "execution_count": 20,
   "id": "9ab2ac7b",
   "metadata": {},
   "outputs": [],
   "source": [
    "for i in range(len(a)):\n",
    "    my_dict[a[i]] = b[i]"
   ]
  },
  {
   "cell_type": "code",
   "execution_count": 21,
   "id": "dac6154b",
   "metadata": {},
   "outputs": [
    {
     "data": {
      "text/plain": [
       "{1: 'apple', 2: 'ball', 3: 'cat', 4: 'dog'}"
      ]
     },
     "execution_count": 21,
     "metadata": {},
     "output_type": "execute_result"
    }
   ],
   "source": [
    "my_dict"
   ]
  },
  {
   "cell_type": "code",
   "execution_count": null,
   "id": "e5752545",
   "metadata": {},
   "outputs": [],
   "source": []
  }
 ],
 "metadata": {
  "kernelspec": {
   "display_name": "Python 3 (ipykernel)",
   "language": "python",
   "name": "python3"
  },
  "language_info": {
   "codemirror_mode": {
    "name": "ipython",
    "version": 3
   },
   "file_extension": ".py",
   "mimetype": "text/x-python",
   "name": "python",
   "nbconvert_exporter": "python",
   "pygments_lexer": "ipython3",
   "version": "3.8.8"
  }
 },
 "nbformat": 4,
 "nbformat_minor": 5
}
