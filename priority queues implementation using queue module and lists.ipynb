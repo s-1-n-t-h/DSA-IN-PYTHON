{
 "cells": [
  {
   "cell_type": "code",
   "execution_count": 1,
   "id": "93574043",
   "metadata": {},
   "outputs": [],
   "source": [
    "# priority queues\n",
    "\n",
    "# elements of queue will be given a particular order of priority"
   ]
  },
  {
   "cell_type": "code",
   "execution_count": 2,
   "id": "5720f070",
   "metadata": {},
   "outputs": [],
   "source": [
    "# the elemenet which ever has highest priority is dequeued first"
   ]
  },
  {
   "cell_type": "code",
   "execution_count": 3,
   "id": "d503bb6c",
   "metadata": {},
   "outputs": [],
   "source": [
    "# sometimes value of the element is considered as priority"
   ]
  },
  {
   "cell_type": "code",
   "execution_count": 4,
   "id": "7aa86c09",
   "metadata": {},
   "outputs": [],
   "source": [
    "# sometimes a values is associated with the element to decide the priority "
   ]
  },
  {
   "cell_type": "code",
   "execution_count": 6,
   "id": "08caf627",
   "metadata": {},
   "outputs": [],
   "source": [
    "# lists are used ofr implementing the priority queues"
   ]
  },
  {
   "cell_type": "code",
   "execution_count": 7,
   "id": "0470e558",
   "metadata": {},
   "outputs": [],
   "source": [
    "q = []"
   ]
  },
  {
   "cell_type": "code",
   "execution_count": null,
   "id": "08706872",
   "metadata": {},
   "outputs": [],
   "source": [
    "#Enqueuing"
   ]
  },
  {
   "cell_type": "code",
   "execution_count": 8,
   "id": "bb2468d4",
   "metadata": {},
   "outputs": [],
   "source": [
    "q.append(10)"
   ]
  },
  {
   "cell_type": "code",
   "execution_count": 9,
   "id": "51e14930",
   "metadata": {},
   "outputs": [],
   "source": [
    "q.append(40)"
   ]
  },
  {
   "cell_type": "code",
   "execution_count": 11,
   "id": "10972234",
   "metadata": {},
   "outputs": [],
   "source": [
    "q.sort()"
   ]
  },
  {
   "cell_type": "code",
   "execution_count": 12,
   "id": "6e7ec300",
   "metadata": {},
   "outputs": [],
   "source": [
    "q.append(20)"
   ]
  },
  {
   "cell_type": "code",
   "execution_count": 13,
   "id": "383ca041",
   "metadata": {},
   "outputs": [],
   "source": [
    "q.sort()"
   ]
  },
  {
   "cell_type": "code",
   "execution_count": 14,
   "id": "ba2c4d0a",
   "metadata": {},
   "outputs": [
    {
     "data": {
      "text/plain": [
       "[10, 20, 40]"
      ]
     },
     "execution_count": 14,
     "metadata": {},
     "output_type": "execute_result"
    }
   ],
   "source": [
    "q"
   ]
  },
  {
   "cell_type": "code",
   "execution_count": 15,
   "id": "75f248e9",
   "metadata": {},
   "outputs": [],
   "source": [
    "#Dequeuing"
   ]
  },
  {
   "cell_type": "code",
   "execution_count": 16,
   "id": "4e276a3c",
   "metadata": {},
   "outputs": [
    {
     "data": {
      "text/plain": [
       "10"
      ]
     },
     "execution_count": 16,
     "metadata": {},
     "output_type": "execute_result"
    }
   ],
   "source": [
    "q.pop(0)"
   ]
  },
  {
   "cell_type": "code",
   "execution_count": 17,
   "id": "b9491922",
   "metadata": {},
   "outputs": [
    {
     "data": {
      "text/plain": [
       "20"
      ]
     },
     "execution_count": 17,
     "metadata": {},
     "output_type": "execute_result"
    }
   ],
   "source": [
    "q.pop(0)"
   ]
  },
  {
   "cell_type": "code",
   "execution_count": 18,
   "id": "732c6832",
   "metadata": {},
   "outputs": [
    {
     "data": {
      "text/plain": [
       "40"
      ]
     },
     "execution_count": 18,
     "metadata": {},
     "output_type": "execute_result"
    }
   ],
   "source": [
    "q.pop(0)"
   ]
  },
  {
   "cell_type": "code",
   "execution_count": 19,
   "id": "c655cf08",
   "metadata": {},
   "outputs": [],
   "source": [
    "# using priority queue class"
   ]
  },
  {
   "cell_type": "code",
   "execution_count": 20,
   "id": "e0d1b7e3",
   "metadata": {},
   "outputs": [],
   "source": [
    "# using binary heap"
   ]
  },
  {
   "cell_type": "code",
   "execution_count": 21,
   "id": "e9ce7c00",
   "metadata": {},
   "outputs": [],
   "source": [
    "# heap queue module is used for sorting data -- lowest data is retrived first."
   ]
  },
  {
   "cell_type": "code",
   "execution_count": 22,
   "id": "d0eec1f5",
   "metadata": {},
   "outputs": [],
   "source": [
    "# import the module"
   ]
  },
  {
   "cell_type": "code",
   "execution_count": 2,
   "id": "54b1c43f",
   "metadata": {},
   "outputs": [],
   "source": [
    "import queue"
   ]
  },
  {
   "cell_type": "code",
   "execution_count": 3,
   "id": "daf29177",
   "metadata": {},
   "outputs": [],
   "source": [
    "# create the PriorityQueue object"
   ]
  },
  {
   "cell_type": "code",
   "execution_count": 4,
   "id": "5bf10227",
   "metadata": {},
   "outputs": [],
   "source": [
    "q = queue.PriorityQueue()"
   ]
  },
  {
   "cell_type": "code",
   "execution_count": null,
   "id": "77e0b976",
   "metadata": {},
   "outputs": [],
   "source": [
    "# Enqueueing the elements"
   ]
  },
  {
   "cell_type": "code",
   "execution_count": 26,
   "id": "b5bc021b",
   "metadata": {},
   "outputs": [],
   "source": [
    "q.put(10)"
   ]
  },
  {
   "cell_type": "code",
   "execution_count": 27,
   "id": "6f4b6915",
   "metadata": {},
   "outputs": [],
   "source": [
    "q.put(60)"
   ]
  },
  {
   "cell_type": "code",
   "execution_count": 28,
   "id": "14234357",
   "metadata": {},
   "outputs": [],
   "source": [
    "q.put(20)"
   ]
  },
  {
   "cell_type": "code",
   "execution_count": 29,
   "id": "340a64c0",
   "metadata": {},
   "outputs": [],
   "source": [
    "q.put(40)"
   ]
  },
  {
   "cell_type": "code",
   "execution_count": 30,
   "id": "d47b15f6",
   "metadata": {},
   "outputs": [],
   "source": [
    "q.put(40)"
   ]
  },
  {
   "cell_type": "code",
   "execution_count": 31,
   "id": "25735827",
   "metadata": {},
   "outputs": [
    {
     "data": {
      "text/plain": [
       "<queue.PriorityQueue at 0x18e7cfe3550>"
      ]
     },
     "execution_count": 31,
     "metadata": {},
     "output_type": "execute_result"
    }
   ],
   "source": [
    "q"
   ]
  },
  {
   "cell_type": "code",
   "execution_count": 33,
   "id": "eb8544cb",
   "metadata": {},
   "outputs": [],
   "source": [
    "#Dequeueing the elements"
   ]
  },
  {
   "cell_type": "code",
   "execution_count": 34,
   "id": "d22df4b5",
   "metadata": {},
   "outputs": [
    {
     "data": {
      "text/plain": [
       "10"
      ]
     },
     "execution_count": 34,
     "metadata": {},
     "output_type": "execute_result"
    }
   ],
   "source": [
    "q.get()"
   ]
  },
  {
   "cell_type": "code",
   "execution_count": 35,
   "id": "7654f463",
   "metadata": {},
   "outputs": [
    {
     "data": {
      "text/plain": [
       "20"
      ]
     },
     "execution_count": 35,
     "metadata": {},
     "output_type": "execute_result"
    }
   ],
   "source": [
    "q.get()"
   ]
  },
  {
   "cell_type": "code",
   "execution_count": 36,
   "id": "57518692",
   "metadata": {},
   "outputs": [
    {
     "data": {
      "text/plain": [
       "40"
      ]
     },
     "execution_count": 36,
     "metadata": {},
     "output_type": "execute_result"
    }
   ],
   "source": [
    "q.get()"
   ]
  },
  {
   "cell_type": "code",
   "execution_count": 37,
   "id": "9484b6cc",
   "metadata": {},
   "outputs": [
    {
     "data": {
      "text/plain": [
       "40"
      ]
     },
     "execution_count": 37,
     "metadata": {},
     "output_type": "execute_result"
    }
   ],
   "source": [
    "q.get()"
   ]
  },
  {
   "cell_type": "code",
   "execution_count": 38,
   "id": "ec142359",
   "metadata": {},
   "outputs": [
    {
     "data": {
      "text/plain": [
       "60"
      ]
     },
     "execution_count": 38,
     "metadata": {},
     "output_type": "execute_result"
    }
   ],
   "source": [
    "q.get(block=False)"
   ]
  },
  {
   "cell_type": "code",
   "execution_count": 39,
   "id": "f5ddedb9",
   "metadata": {},
   "outputs": [
    {
     "ename": "Empty",
     "evalue": "",
     "output_type": "error",
     "traceback": [
      "\u001b[1;31m---------------------------------------------------------------------------\u001b[0m",
      "\u001b[1;31mEmpty\u001b[0m                                     Traceback (most recent call last)",
      "\u001b[1;32m~\\AppData\\Local\\Temp/ipykernel_976/2087427918.py\u001b[0m in \u001b[0;36m<module>\u001b[1;34m\u001b[0m\n\u001b[1;32m----> 1\u001b[1;33m \u001b[0mq\u001b[0m\u001b[1;33m.\u001b[0m\u001b[0mget\u001b[0m\u001b[1;33m(\u001b[0m\u001b[0mblock\u001b[0m\u001b[1;33m=\u001b[0m\u001b[1;32mFalse\u001b[0m\u001b[1;33m)\u001b[0m\u001b[1;33m\u001b[0m\u001b[1;33m\u001b[0m\u001b[0m\n\u001b[0m",
      "\u001b[1;32m~\\anaconda3\\lib\\queue.py\u001b[0m in \u001b[0;36mget\u001b[1;34m(self, block, timeout)\u001b[0m\n\u001b[0;32m    165\u001b[0m             \u001b[1;32mif\u001b[0m \u001b[1;32mnot\u001b[0m \u001b[0mblock\u001b[0m\u001b[1;33m:\u001b[0m\u001b[1;33m\u001b[0m\u001b[1;33m\u001b[0m\u001b[0m\n\u001b[0;32m    166\u001b[0m                 \u001b[1;32mif\u001b[0m \u001b[1;32mnot\u001b[0m \u001b[0mself\u001b[0m\u001b[1;33m.\u001b[0m\u001b[0m_qsize\u001b[0m\u001b[1;33m(\u001b[0m\u001b[1;33m)\u001b[0m\u001b[1;33m:\u001b[0m\u001b[1;33m\u001b[0m\u001b[1;33m\u001b[0m\u001b[0m\n\u001b[1;32m--> 167\u001b[1;33m                     \u001b[1;32mraise\u001b[0m \u001b[0mEmpty\u001b[0m\u001b[1;33m\u001b[0m\u001b[1;33m\u001b[0m\u001b[0m\n\u001b[0m\u001b[0;32m    168\u001b[0m             \u001b[1;32melif\u001b[0m \u001b[0mtimeout\u001b[0m \u001b[1;32mis\u001b[0m \u001b[1;32mNone\u001b[0m\u001b[1;33m:\u001b[0m\u001b[1;33m\u001b[0m\u001b[1;33m\u001b[0m\u001b[0m\n\u001b[0;32m    169\u001b[0m                 \u001b[1;32mwhile\u001b[0m \u001b[1;32mnot\u001b[0m \u001b[0mself\u001b[0m\u001b[1;33m.\u001b[0m\u001b[0m_qsize\u001b[0m\u001b[1;33m(\u001b[0m\u001b[1;33m)\u001b[0m\u001b[1;33m:\u001b[0m\u001b[1;33m\u001b[0m\u001b[1;33m\u001b[0m\u001b[0m\n",
      "\u001b[1;31mEmpty\u001b[0m: "
     ]
    }
   ],
   "source": [
    "q.get(block=False) # blocks the slot waiting process"
   ]
  },
  {
   "cell_type": "code",
   "execution_count": null,
   "id": "d2e7d12a",
   "metadata": {},
   "outputs": [],
   "source": [
    "q.get()"
   ]
  },
  {
   "cell_type": "code",
   "execution_count": 7,
   "id": "d6751b71",
   "metadata": {},
   "outputs": [
    {
     "ename": "Empty",
     "evalue": "",
     "output_type": "error",
     "traceback": [
      "\u001b[1;31m---------------------------------------------------------------------------\u001b[0m",
      "\u001b[1;31mEmpty\u001b[0m                                     Traceback (most recent call last)",
      "\u001b[1;32m~\\AppData\\Local\\Temp/ipykernel_7976/3935967351.py\u001b[0m in \u001b[0;36m<module>\u001b[1;34m\u001b[0m\n\u001b[1;32m----> 1\u001b[1;33m \u001b[0mq\u001b[0m\u001b[1;33m.\u001b[0m\u001b[0mget\u001b[0m\u001b[1;33m(\u001b[0m\u001b[0mtimeout\u001b[0m\u001b[1;33m=\u001b[0m\u001b[1;36m1\u001b[0m\u001b[1;33m)\u001b[0m \u001b[1;31m# sets the time after to display the output\u001b[0m\u001b[1;33m\u001b[0m\u001b[1;33m\u001b[0m\u001b[0m\n\u001b[0m",
      "\u001b[1;32m~\\anaconda3\\lib\\queue.py\u001b[0m in \u001b[0;36mget\u001b[1;34m(self, block, timeout)\u001b[0m\n\u001b[0;32m    176\u001b[0m                     \u001b[0mremaining\u001b[0m \u001b[1;33m=\u001b[0m \u001b[0mendtime\u001b[0m \u001b[1;33m-\u001b[0m \u001b[0mtime\u001b[0m\u001b[1;33m(\u001b[0m\u001b[1;33m)\u001b[0m\u001b[1;33m\u001b[0m\u001b[1;33m\u001b[0m\u001b[0m\n\u001b[0;32m    177\u001b[0m                     \u001b[1;32mif\u001b[0m \u001b[0mremaining\u001b[0m \u001b[1;33m<=\u001b[0m \u001b[1;36m0.0\u001b[0m\u001b[1;33m:\u001b[0m\u001b[1;33m\u001b[0m\u001b[1;33m\u001b[0m\u001b[0m\n\u001b[1;32m--> 178\u001b[1;33m                         \u001b[1;32mraise\u001b[0m \u001b[0mEmpty\u001b[0m\u001b[1;33m\u001b[0m\u001b[1;33m\u001b[0m\u001b[0m\n\u001b[0m\u001b[0;32m    179\u001b[0m                     \u001b[0mself\u001b[0m\u001b[1;33m.\u001b[0m\u001b[0mnot_empty\u001b[0m\u001b[1;33m.\u001b[0m\u001b[0mwait\u001b[0m\u001b[1;33m(\u001b[0m\u001b[0mremaining\u001b[0m\u001b[1;33m)\u001b[0m\u001b[1;33m\u001b[0m\u001b[1;33m\u001b[0m\u001b[0m\n\u001b[0;32m    180\u001b[0m             \u001b[0mitem\u001b[0m \u001b[1;33m=\u001b[0m \u001b[0mself\u001b[0m\u001b[1;33m.\u001b[0m\u001b[0m_get\u001b[0m\u001b[1;33m(\u001b[0m\u001b[1;33m)\u001b[0m\u001b[1;33m\u001b[0m\u001b[1;33m\u001b[0m\u001b[0m\n",
      "\u001b[1;31mEmpty\u001b[0m: "
     ]
    }
   ],
   "source": [
    "q.get(timeout=1) # sets the time after to display the output"
   ]
  },
  {
   "cell_type": "code",
   "execution_count": 5,
   "id": "4b7aaca2",
   "metadata": {},
   "outputs": [
    {
     "name": "stdout",
     "output_type": "stream",
     "text": [
      "Help on method get in module queue:\n",
      "\n",
      "get(block=True, timeout=None) method of queue.PriorityQueue instance\n",
      "    Remove and return an item from the queue.\n",
      "    \n",
      "    If optional args 'block' is true and 'timeout' is None (the default),\n",
      "    block if necessary until an item is available. If 'timeout' is\n",
      "    a non-negative number, it blocks at most 'timeout' seconds and raises\n",
      "    the Empty exception if no item was available within that time.\n",
      "    Otherwise ('block' is false), return an item if one is immediately\n",
      "    available, else raise the Empty exception ('timeout' is ignored\n",
      "    in that case).\n",
      "\n"
     ]
    }
   ],
   "source": [
    "help(q.get)"
   ]
  },
  {
   "cell_type": "code",
   "execution_count": null,
   "id": "12bf2acb",
   "metadata": {},
   "outputs": [],
   "source": []
  }
 ],
 "metadata": {
  "kernelspec": {
   "display_name": "Python 3 (ipykernel)",
   "language": "python",
   "name": "python3"
  },
  "language_info": {
   "codemirror_mode": {
    "name": "ipython",
    "version": 3
   },
   "file_extension": ".py",
   "mimetype": "text/x-python",
   "name": "python",
   "nbconvert_exporter": "python",
   "pygments_lexer": "ipython3",
   "version": "3.8.8"
  }
 },
 "nbformat": 4,
 "nbformat_minor": 5
}
