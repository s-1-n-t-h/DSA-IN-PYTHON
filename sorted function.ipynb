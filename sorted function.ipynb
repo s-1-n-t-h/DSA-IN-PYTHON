{
 "cells": [
  {
   "cell_type": "code",
   "execution_count": 1,
   "id": "c912c00f",
   "metadata": {},
   "outputs": [],
   "source": [
    "list1 = [7,5,6,3,4,2,3,1]"
   ]
  },
  {
   "cell_type": "code",
   "execution_count": 2,
   "id": "ebbee609",
   "metadata": {},
   "outputs": [],
   "source": [
    "tuple1 = ((3,8),(2,9),(1,10),(4,7))"
   ]
  },
  {
   "cell_type": "code",
   "execution_count": 3,
   "id": "819e2d20",
   "metadata": {},
   "outputs": [],
   "source": [
    "d1 = {3:\"e\",2:'a',1:'c',7:'b',5:'d'}"
   ]
  },
  {
   "cell_type": "code",
   "execution_count": 4,
   "id": "3f8463d7",
   "metadata": {},
   "outputs": [
    {
     "data": {
      "text/plain": [
       "[1, 2, 3, 3, 4, 5, 6, 7]"
      ]
     },
     "execution_count": 4,
     "metadata": {},
     "output_type": "execute_result"
    }
   ],
   "source": [
    " sorted(list1)"
   ]
  },
  {
   "cell_type": "code",
   "execution_count": 5,
   "id": "9db0ff51",
   "metadata": {},
   "outputs": [
    {
     "data": {
      "text/plain": [
       "[7, 6, 5, 4, 3, 3, 2, 1]"
      ]
     },
     "execution_count": 5,
     "metadata": {},
     "output_type": "execute_result"
    }
   ],
   "source": [
    "sorted(list1,reverse=True)"
   ]
  },
  {
   "cell_type": "code",
   "execution_count": 6,
   "id": "eb041b3e",
   "metadata": {},
   "outputs": [
    {
     "data": {
      "text/plain": [
       "[(1, 10), (2, 9), (3, 8), (4, 7)]"
      ]
     },
     "execution_count": 6,
     "metadata": {},
     "output_type": "execute_result"
    }
   ],
   "source": [
    "sorted(tuple1)"
   ]
  },
  {
   "cell_type": "code",
   "execution_count": 7,
   "id": "ec82fc26",
   "metadata": {},
   "outputs": [
    {
     "data": {
      "text/plain": [
       "[1, 2, 3, 5, 7]"
      ]
     },
     "execution_count": 7,
     "metadata": {},
     "output_type": "execute_result"
    }
   ],
   "source": [
    "sorted(d1)"
   ]
  },
  {
   "cell_type": "code",
   "execution_count": 8,
   "id": "df9b2fae",
   "metadata": {},
   "outputs": [
    {
     "data": {
      "text/plain": [
       "['a', 'b', 'c', 'd', 'e']"
      ]
     },
     "execution_count": 8,
     "metadata": {},
     "output_type": "execute_result"
    }
   ],
   "source": [
    "sorted(d1.values())"
   ]
  },
  {
   "cell_type": "code",
   "execution_count": null,
   "id": "3feac5fa",
   "metadata": {},
   "outputs": [],
   "source": [
    "#since dictionary is un-ordered ^|"
   ]
  },
  {
   "cell_type": "code",
   "execution_count": 9,
   "id": "a66f1697",
   "metadata": {},
   "outputs": [
    {
     "data": {
      "text/plain": [
       "[(1, 'c'), (2, 'a'), (3, 'e'), (5, 'd'), (7, 'b')]"
      ]
     },
     "execution_count": 9,
     "metadata": {},
     "output_type": "execute_result"
    }
   ],
   "source": [
    "sorted(d1.items())"
   ]
  },
  {
   "cell_type": "code",
   "execution_count": 11,
   "id": "6f9992d1",
   "metadata": {},
   "outputs": [],
   "source": [
    "#to sort the dictionary key value pairs by values of elements "
   ]
  },
  {
   "cell_type": "code",
   "execution_count": 15,
   "id": "efae7554",
   "metadata": {},
   "outputs": [
    {
     "data": {
      "text/plain": [
       "[(2, 'a'), (7, 'b'), (1, 'c'), (5, 'd'), (3, 'e')]"
      ]
     },
     "execution_count": 15,
     "metadata": {},
     "output_type": "execute_result"
    }
   ],
   "source": [
    "sorted(d1.items(),key=lambda x:x[1])"
   ]
  },
  {
   "cell_type": "code",
   "execution_count": null,
   "id": "74e53ef0",
   "metadata": {},
   "outputs": [],
   "source": []
  },
  {
   "cell_type": "code",
   "execution_count": 17,
   "id": "fc4c3d7a",
   "metadata": {},
   "outputs": [],
   "source": [
    "# key works in same way with both sort() and sorted() #"
   ]
  }
 ],
 "metadata": {
  "kernelspec": {
   "display_name": "Python 3 (ipykernel)",
   "language": "python",
   "name": "python3"
  },
  "language_info": {
   "codemirror_mode": {
    "name": "ipython",
    "version": 3
   },
   "file_extension": ".py",
   "mimetype": "text/x-python",
   "name": "python",
   "nbconvert_exporter": "python",
   "pygments_lexer": "ipython3",
   "version": "3.8.8"
  }
 },
 "nbformat": 4,
 "nbformat_minor": 5
}
