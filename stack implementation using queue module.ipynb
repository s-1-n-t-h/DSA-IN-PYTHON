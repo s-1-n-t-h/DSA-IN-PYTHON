{
 "cells": [
  {
   "cell_type": "code",
   "execution_count": 1,
   "id": "be1cd93d",
   "metadata": {},
   "outputs": [],
   "source": [
    "# importing the module"
   ]
  },
  {
   "cell_type": "code",
   "execution_count": 2,
   "id": "9c986177",
   "metadata": {},
   "outputs": [],
   "source": [
    "import queue"
   ]
  },
  {
   "cell_type": "code",
   "execution_count": 3,
   "id": "083366f8",
   "metadata": {},
   "outputs": [],
   "source": [
    "# creating the stack using LifoQueue class in the queue module"
   ]
  },
  {
   "cell_type": "code",
   "execution_count": 4,
   "id": "f5efa491",
   "metadata": {},
   "outputs": [],
   "source": [
    "stack = queue.LifoQueue()"
   ]
  },
  {
   "cell_type": "code",
   "execution_count": 5,
   "id": "7b9b6d76",
   "metadata": {},
   "outputs": [
    {
     "data": {
      "text/plain": [
       "<queue.LifoQueue at 0x170caef4c10>"
      ]
     },
     "execution_count": 5,
     "metadata": {},
     "output_type": "execute_result"
    }
   ],
   "source": [
    "stack"
   ]
  },
  {
   "cell_type": "code",
   "execution_count": 7,
   "id": "6340f5e5",
   "metadata": {},
   "outputs": [],
   "source": [
    "# to add elements to the object -- use put() method "
   ]
  },
  {
   "cell_type": "code",
   "execution_count": 8,
   "id": "ae684ed0",
   "metadata": {},
   "outputs": [],
   "source": [
    "stack.put(1)"
   ]
  },
  {
   "cell_type": "code",
   "execution_count": 9,
   "id": "0aaaa430",
   "metadata": {},
   "outputs": [],
   "source": [
    "stack.put(2)"
   ]
  },
  {
   "cell_type": "code",
   "execution_count": 10,
   "id": "78e50bef",
   "metadata": {},
   "outputs": [],
   "source": [
    "stack.put(3)"
   ]
  },
  {
   "cell_type": "code",
   "execution_count": 11,
   "id": "367c2045",
   "metadata": {},
   "outputs": [
    {
     "data": {
      "text/plain": [
       "<queue.LifoQueue at 0x170caef4c10>"
      ]
     },
     "execution_count": 11,
     "metadata": {},
     "output_type": "execute_result"
    }
   ],
   "source": [
    "stack"
   ]
  },
  {
   "cell_type": "code",
   "execution_count": 12,
   "id": "75f00b59",
   "metadata": {},
   "outputs": [],
   "source": [
    "# creating a fixed sized stack with the module"
   ]
  },
  {
   "cell_type": "code",
   "execution_count": 13,
   "id": "cabdb780",
   "metadata": {},
   "outputs": [],
   "source": [
    "stack = queue.LifoQueue(3)"
   ]
  },
  {
   "cell_type": "code",
   "execution_count": 14,
   "id": "ce1944be",
   "metadata": {},
   "outputs": [],
   "source": [
    "stack.put(1)"
   ]
  },
  {
   "cell_type": "code",
   "execution_count": 15,
   "id": "b25aba32",
   "metadata": {},
   "outputs": [],
   "source": [
    "stack.put(2)"
   ]
  },
  {
   "cell_type": "code",
   "execution_count": 16,
   "id": "7cb9f7d4",
   "metadata": {},
   "outputs": [],
   "source": [
    "stack.put(3)"
   ]
  },
  {
   "cell_type": "code",
   "execution_count": null,
   "id": "42a3f09e",
   "metadata": {},
   "outputs": [],
   "source": [
    "stack.put(4) -- # this will generate an error"
   ]
  },
  {
   "cell_type": "code",
   "execution_count": null,
   "id": "5ae8bf24",
   "metadata": {},
   "outputs": [],
   "source": [
    "# use timeout parameter to make the queue get it's slot"
   ]
  },
  {
   "cell_type": "code",
   "execution_count": null,
   "id": "20352d59",
   "metadata": {},
   "outputs": [],
   "source": []
  }
 ],
 "metadata": {
  "kernelspec": {
   "display_name": "Python 3 (ipykernel)",
   "language": "python",
   "name": "python3"
  },
  "language_info": {
   "codemirror_mode": {
    "name": "ipython",
    "version": 3
   },
   "file_extension": ".py",
   "mimetype": "text/x-python",
   "name": "python",
   "nbconvert_exporter": "python",
   "pygments_lexer": "ipython3",
   "version": "3.8.8"
  }
 },
 "nbformat": 4,
 "nbformat_minor": 5
}
