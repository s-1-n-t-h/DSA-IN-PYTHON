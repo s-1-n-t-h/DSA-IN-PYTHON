{
 "cells": [
  {
   "cell_type": "code",
   "execution_count": 17,
   "id": "beba61db",
   "metadata": {},
   "outputs": [],
   "source": [
    "q = []"
   ]
  },
  {
   "cell_type": "code",
   "execution_count": 18,
   "id": "b932047c",
   "metadata": {},
   "outputs": [],
   "source": [
    "q.append((1,'alex'))"
   ]
  },
  {
   "cell_type": "code",
   "execution_count": 19,
   "id": "57654dd7",
   "metadata": {},
   "outputs": [],
   "source": [
    "q.append((4,'mahi'))"
   ]
  },
  {
   "cell_type": "code",
   "execution_count": 20,
   "id": "433ea6be",
   "metadata": {},
   "outputs": [],
   "source": [
    "q.append((2,'sarvani'))"
   ]
  },
  {
   "cell_type": "code",
   "execution_count": 21,
   "id": "8a7308c2",
   "metadata": {},
   "outputs": [
    {
     "data": {
      "text/plain": [
       "[(1, 'alex'), (4, 'mahi'), (2, 'sarvani')]"
      ]
     },
     "execution_count": 21,
     "metadata": {},
     "output_type": "execute_result"
    }
   ],
   "source": [
    "q"
   ]
  },
  {
   "cell_type": "code",
   "execution_count": 22,
   "id": "53d6f9de",
   "metadata": {},
   "outputs": [],
   "source": [
    "# sorting the queue data w.r.t priority provided as first element of each item in the list"
   ]
  },
  {
   "cell_type": "code",
   "execution_count": 23,
   "id": "6a2eb32b",
   "metadata": {},
   "outputs": [],
   "source": [
    "q.sort()"
   ]
  },
  {
   "cell_type": "code",
   "execution_count": 24,
   "id": "f819e61a",
   "metadata": {},
   "outputs": [
    {
     "data": {
      "text/plain": [
       "[(1, 'alex'), (2, 'sarvani'), (4, 'mahi')]"
      ]
     },
     "execution_count": 24,
     "metadata": {},
     "output_type": "execute_result"
    }
   ],
   "source": [
    "q"
   ]
  },
  {
   "cell_type": "code",
   "execution_count": 25,
   "id": "42653142",
   "metadata": {},
   "outputs": [
    {
     "data": {
      "text/plain": [
       "(1, 'alex')"
      ]
     },
     "execution_count": 25,
     "metadata": {},
     "output_type": "execute_result"
    }
   ],
   "source": [
    "q.pop(0)"
   ]
  },
  {
   "cell_type": "code",
   "execution_count": 26,
   "id": "12e4d2cf",
   "metadata": {},
   "outputs": [
    {
     "data": {
      "text/plain": [
       "(2, 'sarvani')"
      ]
     },
     "execution_count": 26,
     "metadata": {},
     "output_type": "execute_result"
    }
   ],
   "source": [
    "q.pop(0)"
   ]
  },
  {
   "cell_type": "code",
   "execution_count": 27,
   "id": "6c6bb6da",
   "metadata": {},
   "outputs": [
    {
     "data": {
      "text/plain": [
       "(4, 'mahi')"
      ]
     },
     "execution_count": 27,
     "metadata": {},
     "output_type": "execute_result"
    }
   ],
   "source": [
    "q.pop(0)"
   ]
  },
  {
   "cell_type": "code",
   "execution_count": 28,
   "id": "2f0ba1a0",
   "metadata": {},
   "outputs": [
    {
     "ename": "IndexError",
     "evalue": "pop from empty list",
     "output_type": "error",
     "traceback": [
      "\u001b[1;31m---------------------------------------------------------------------------\u001b[0m",
      "\u001b[1;31mIndexError\u001b[0m                                Traceback (most recent call last)",
      "\u001b[1;32m~\\AppData\\Local\\Temp/ipykernel_7568/3865976089.py\u001b[0m in \u001b[0;36m<module>\u001b[1;34m\u001b[0m\n\u001b[1;32m----> 1\u001b[1;33m \u001b[0mq\u001b[0m\u001b[1;33m.\u001b[0m\u001b[0mpop\u001b[0m\u001b[1;33m(\u001b[0m\u001b[1;36m0\u001b[0m\u001b[1;33m)\u001b[0m\u001b[1;33m\u001b[0m\u001b[1;33m\u001b[0m\u001b[0m\n\u001b[0m",
      "\u001b[1;31mIndexError\u001b[0m: pop from empty list"
     ]
    }
   ],
   "source": [
    "q.pop(0)"
   ]
  },
  {
   "cell_type": "code",
   "execution_count": null,
   "id": "690b8bc0",
   "metadata": {},
   "outputs": [],
   "source": []
  }
 ],
 "metadata": {
  "kernelspec": {
   "display_name": "Python 3 (ipykernel)",
   "language": "python",
   "name": "python3"
  },
  "language_info": {
   "codemirror_mode": {
    "name": "ipython",
    "version": 3
   },
   "file_extension": ".py",
   "mimetype": "text/x-python",
   "name": "python",
   "nbconvert_exporter": "python",
   "pygments_lexer": "ipython3",
   "version": "3.8.8"
  }
 },
 "nbformat": 4,
 "nbformat_minor": 5
}
